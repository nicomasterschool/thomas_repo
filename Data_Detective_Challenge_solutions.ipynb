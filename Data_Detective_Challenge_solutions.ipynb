{
  "cells": [
    {
      "cell_type": "markdown",
      "id": "7c0facac",
      "metadata": {
        "id": "7c0facac"
      },
      "source": [
        "##🕵️ Data Detective: Die gestohlene Ming-Vase aus dem chinesischen Museumshaus 🏺✨\n"
      ]
    },
    {
      "cell_type": "markdown",
      "id": "LMH7OSZyIE2j",
      "metadata": {
        "id": "LMH7OSZyIE2j"
      },
      "source": [
        "####🚨 **Das Verbrechen**\n",
        "\n",
        ">Am vergangenen Samstag, dem 08. Januar 2025, hat in Berlin eine exklusive Sonderausstellung im Chinesischen Museumshaus stattgefunden. Im Mittelpunkt stand eine besonders wertvolle und seltene Ming-Vase – geschätzter Wert: ca. 3,5 Millionen Euro. 💰 **Zwischen 11:19 und 11:30 Uhr wurde die wertvolle Ming-Vase gestohlen** 🏺💥. Sie befand sich in einem weniger einsehbaren Bereich der Sonderausstellung (Special Exhibit) und war nur durch eine leicht zugängliche Absperrung geschützt. Doch das war erst der Anfang: Genau in diesem Zeitraum kam es zu einem **unerklärlichen Stromausfall** ⚡, der sowohl den Sonderausstellungsbereich als auch Teile der Haupthalle (Main Hall) betraf.Test 1\n",
        "\n",
        "\n",
        "####**❌ Folge**\n",
        ">Die Überwachungskameras konnten den Vorfall wegen des plötzlichen Stromausfalls nicht aufzeichnen. 🔌💥 Die betroffenen Bereiche lagen in völliger Dunkelheit, wodurch die Vase unbeobachtet entwendet werden konnte – die Videoaufnahmen waren dadurch völlig unbrauchbar. Als der **Diebstahl um 11:30 Uhr gemeldet wurde**, blieb eine **schnelle und gründliche Kontrolle aller Besucher & Besucherinnen**, die sich zum Zeitpunkt des Diebstahls im Museum befanden, erfolglos – trotz intensiver Durchsuchung und Verhörung aller Besucher & Besucherinnen konnte die wertvolle Ming-Vase nicht gefunden werden. 🏛️❌\n",
        "\n",
        "####**🔎 Deine Mission**\n",
        ">Als Data Detective ist es deine Aufgabe, den **Tathergang bis ins Detail zu rekonstruieren** und herauszufinden, wer hinter diesem Diebstahl steckt, wie wurde der Diebstahl geplant und welche Personen sind darin involviert. Erstelle ein präzises Zeitprofil, das zeigt, wann und wie die verdächtigte Personen vorgegangen sind:\n",
        "\n",
        ">1.   Person A betritt das Museum um 9:45\n",
        ">2.   Bewegung durch das Museum (z.B. Raum A → Raum B) 📍\n",
        ">3.   Schlüsselmomente des Diebstahls (Wann wurde die Vase gestohlen?)\n",
        ">4.   Flucht oder Versteck der Vase 🚪\n",
        "\n",
        "####**💡 Tipp**\n",
        ">Nutze alle verfügbaren Hinweise: Zeitstempel, Bewegungsmuster der und Aktivitäten der Tatverdächtigten. Kombiniere Daten aus allen Protokollen und Logs, um ein vollständiges Bild vom Tathergang zu erstellen.\n",
        "\n",
        "####**🔐 Dein Ziel**\n",
        ">Finde den oder die TäterIn und beschreibe detailliert, wie der Diebstahl geplant und durchgeführt wurde. Beschreibe deine Vorgehensweise und Erkenntnisse anhand deiner Code-Schnipsel.\n",
        "\n",
        "👉 Egal ob **SQL oder Python**, Du wählst dein Analyseinstrument."
      ]
    },
    {
      "cell_type": "markdown",
      "id": "5e1ac3c8",
      "metadata": {
        "id": "5e1ac3c8"
      },
      "source": [
        "\n",
        "## ✅ Environment einrichten\n",
        "\n",
        "\n",
        "1. Python Pakete importieren 📦\n",
        "2. Datenbankverbindung einrichten 🔌\n",
        "3. Tabellengrundlagen erstellen und mit Daten befüllen 🔢\n",
        "\n"
      ]
    },
    {
      "cell_type": "markdown",
      "id": "69v1Qja54eFv",
      "metadata": {
        "id": "69v1Qja54eFv"
      },
      "source": [
        "#####📦 Import Python Libraries"
      ]
    },
    {
      "cell_type": "code",
      "execution_count": 2,
      "id": "jnmgv6dy4frT",
      "metadata": {
        "id": "jnmgv6dy4frT"
      },
      "outputs": [],
      "source": [
        "import pandas as pd\n",
        "import numpy as np\n",
        "import matplotlib.pyplot as plt\n",
        "import sqlite3"
      ]
    },
    {
      "cell_type": "markdown",
      "id": "s_gcd1OE48gm",
      "metadata": {
        "id": "s_gcd1OE48gm"
      },
      "source": [
        "#####🔌 SQLite Datenbankverbindung herstellen"
      ]
    },
    {
      "cell_type": "code",
      "execution_count": 3,
      "id": "V414YVdU4991",
      "metadata": {
        "id": "V414YVdU4991"
      },
      "outputs": [],
      "source": [
        "# Neues SQLite database memory\n",
        "conn = sqlite3.connect(\":memory:\")"
      ]
    },
    {
      "cell_type": "markdown",
      "id": "2GP4VoFG5hpa",
      "metadata": {
        "id": "2GP4VoFG5hpa"
      },
      "source": [
        "##### 🔢 Tabellengrundlagen erstellen und mit Daten befüllen"
      ]
    },
    {
      "cell_type": "code",
      "execution_count": 4,
      "id": "d49e1b3f",
      "metadata": {
        "colab": {
          "base_uri": "https://localhost:8080/"
        },
        "id": "d49e1b3f",
        "outputId": "d3f6ee5b-d808-4b29-d0a2-c17af6f5c0aa"
      },
      "outputs": [
        {
          "data": {
            "text/plain": [
              "10"
            ]
          },
          "execution_count": 4,
          "metadata": {},
          "output_type": "execute_result"
        }
      ],
      "source": [
        "############# Tabellen erstellen #############\n",
        "\n",
        "visitors = pd.DataFrame({\n",
        "    'visitor_id': [\n",
        "        'V001', 'V002', 'V003', 'V004', 'V005', 'V006', 'V007', 'V008', 'V009', 'V010',\n",
        "        'V011', 'V012', 'V013', 'V014', 'V015', 'V016', 'V017', 'V018', 'V019', 'V020',\n",
        "        'V021', 'V022', 'V023', 'V024', 'V025'\n",
        "    ],\n",
        "    'visitor_name': [\n",
        "        'Michael Smith', 'Sarah Marlow', 'Harry Belafonte', 'Peter Harris', 'Karen Heights',\n",
        "        'Steve Allington', 'Ines Mallus', 'John Atticks', 'Lisa Mayer', 'Robert Schopf',\n",
        "        'Anja Schmoekel', 'Sebastian Bangemann', 'Vida Abbasi', 'Odilon Patrick Ogue',\n",
        "        'Snezana Kostic', 'Marianna Gokova', 'Yana Yelnikova', 'Serhii Sotnichenko',\n",
        "        'Mindo Siagian Kern', 'Thomas Koehler', 'Lars Petschke', 'Mahdi Aminmoghaddasi',\n",
        "        'Martin Svitek', 'Konstantin Milonas', 'Roksena Ilieva'\n",
        "    ],\n",
        " 'ticket_type':\n",
        "        ['entry + free souvenir item'] * 2 + ['entry + free drink'] * 2 + ['entry + free souvenir item'] * 3 + ['entry + free drink'] * 8 + ['entry + free souvenir item'] * 7 + ['entry + free drink'] * 3\n",
        "}\n",
        ")\n",
        "\n",
        "\n",
        "visitor_logs = pd.DataFrame({\n",
        "    'visitor_id': ['V001'] * 21+ ['V002'] * 18+ ['V003'] * 15 + ['V004'] * 14 + ['V005'] * 15 + ['V006'] * 15 + ['V007'] * 13 + ['V008'] * 14 + ['V009'] * 15 + ['V010'] * 14 + ['V011'] * 13 +  ['V012'] * 13 + ['V013'] * 13 + ['V014'] * 13 + ['V015'] * 13 + ['V016'] * 13 + ['V017'] * 13 + ['V018'] * 13 + ['V019'] * 13 + ['V020'] * 13 + ['V021'] * 13 + ['V022'] * 13 + ['V023'] * 13 + ['V024'] * 13 + ['V025'] * 13,\n",
        "    'building_section': [\n",
        "        #Michael Smith\n",
        "        'Entrance', 'Entrance/Exit Hall', 'Ticket Office', 'Entrance/Exit Hall', 'Gift Shop',\n",
        "        'Main Hall', 'Main Exhibit', 'Main Hall', 'Special Exhibit', 'Main Hall',\n",
        "        'Restrooms', 'Main Hall', 'Main Exhibit', 'Main Hall', 'Special Exhibit',\n",
        "        'Main Hall', 'Restrooms', 'Special Exhibit', 'Restrooms', 'Entrance/Exit Hall', 'Exit',\n",
        "        #Sarah Marlow\n",
        "        'Entrance', 'Entrance/Exit Hall', 'Main Hall', 'Gift Shop', 'Main Hall',\n",
        "        'Main Exhibit', 'Main Hall', 'Restrooms', 'Main Hall', 'Special Exhibit',\n",
        "        'Main Hall', 'Restrooms', 'Main Exhibit', 'Main Hall', 'Gift Shop',\n",
        "        'Main Hall', 'Entrance/Exit Hall', 'Exit',\n",
        "        #Harry Belafonte\n",
        "         'Entrance', 'Entrance/Exit Hall', 'Main Hall', 'Main Exhibit', 'Main Hall',\n",
        "        'Gift Shop', 'Main Hall', 'Special Exhibit', 'Main Hall', 'Restrooms',\n",
        "        'Main Hall', 'Special Exhibit', 'Main Hall', 'Entrance/Exit Hall', 'Exit',\n",
        "        #Peter Harris\n",
        "        'Entrance', 'Entrance/Exit Hall', 'Gift Shop', 'Main Hall', 'Main Exhibit',\n",
        "        'Main Hall', 'Special Exhibit', 'Main Hall', 'Restrooms', 'Main Hall',\n",
        "        'Special Exhibit', 'Main Hall', 'Entrance/Exit Hall', 'Exit',\n",
        "        #Karen Heights\n",
        "        'Entrance', 'Entrance/Exit Hall', 'Main Hall', 'Main Exhibit', 'Main Hall',\n",
        "        'Gift Shop', 'Main Hall', 'Special Exhibit', 'Main Hall', 'Restrooms',\n",
        "        'Main Hall', 'Special Exhibit', 'Main Hall', 'Entrance/Exit Hall', 'Exit',\n",
        "        #Steve Allington\n",
        "        'Entrance', 'Entrance/Exit Hall', 'Ticket Office', 'Main Hall', 'Main Exhibit',\n",
        "        'Main Hall', 'Gift Shop', 'Main Hall', 'Special Exhibit', 'Main Hall',\n",
        "        'Restrooms', 'Main Hall', 'Special Exhibit', 'Main Hall', 'Exit',\n",
        "        #Ines Mallus\n",
        "        'Entrance', 'Entrance/Exit Hall', 'Main Hall', 'Gift Shop', 'Main Hall',\n",
        "        'Main Exhibit', 'Main Hall', 'Restrooms', 'Main Hall', 'Special Exhibit',\n",
        "        'Main Hall', 'Entrance/Exit Hall', 'Exit',\n",
        "        #John Atticks\n",
        "        'Entrance', 'Entrance/Exit Hall', 'Ticket Office', 'Main Hall', 'Main Exhibit',\n",
        "        'Main Hall', 'Gift Shop', 'Main Hall', 'Restrooms', 'Main Hall',\n",
        "        'Special Exhibit', 'Main Hall', 'Entrance/Exit Hall', 'Exit',\n",
        "        #Lisa Mayer\n",
        "        'Entrance', 'Entrance/Exit Hall', 'Main Hall', 'Main Exhibit', 'Main Hall',\n",
        "        'Gift Shop', 'Main Hall', 'Special Exhibit', 'Main Hall', 'Restrooms',\n",
        "        'Main Hall', 'Special Exhibit', 'Main Hall', 'Entrance/Exit Hall', 'Exit',\n",
        "        #Robert Schopf\n",
        "        'Entrance', 'Entrance/Exit Hall', 'Ticket Office', 'Main Hall', 'Main Exhibit',\n",
        "        'Main Hall', 'Restrooms', 'Main Hall', 'Special Exhibit', 'Main Hall',\n",
        "        'Gift Shop', 'Main Hall', 'Entrance/Exit Hall', 'Exit',\n",
        "        #Anja Schmoekel\n",
        "        'Entrance', 'Entrance/Exit Hall', 'Main Hall', 'Gift Shop', 'Main Hall',\n",
        "        'Main Exhibit', 'Main Hall', 'Restrooms', 'Main Hall', 'Special Exhibit',\n",
        "        'Main Hall', 'Entrance/Exit Hall', 'Exit',\n",
        "        #Sebastian Bangemann\n",
        "        'Entrance', 'Entrance/Exit Hall', 'Main Hall', 'Main Exhibit', 'Main Hall',\n",
        "        'Gift Shop', 'Main Hall', 'Special Exhibit', 'Main Hall', 'Restrooms',\n",
        "        'Main Hall', 'Entrance/Exit Hall', 'Exit',\n",
        "        #Vida Abbasi\n",
        "        'Entrance', 'Entrance/Exit Hall', 'Main Hall', 'Gift Shop', 'Main Hall',\n",
        "        'Main Exhibit', 'Main Hall', 'Special Exhibit', 'Main Hall', 'Restrooms',\n",
        "        'Main Hall', 'Entrance/Exit Hall', 'Exit',\n",
        "        #Odilon Patrick Ogue\n",
        "        'Entrance', 'Entrance/Exit Hall', 'Main Hall', 'Main Exhibit', 'Main Hall',\n",
        "        'Gift Shop', 'Main Hall', 'Special Exhibit', 'Main Hall', 'Restrooms',\n",
        "        'Main Hall', 'Entrance/Exit Hall', 'Exit',\n",
        "        #Snezana Kostic\n",
        "        'Entrance', 'Entrance/Exit Hall', 'Main Hall', 'Gift Shop', 'Main Hall',\n",
        "        'Main Exhibit', 'Main Hall', 'Special Exhibit', 'Main Hall', 'Restrooms',\n",
        "        'Main Hall', 'Entrance/Exit Hall', 'Exit',\n",
        "        #Marianna Gokova\n",
        "        'Entrance', 'Entrance/Exit Hall', 'Main Hall', 'Main Exhibit', 'Main Hall',\n",
        "        'Gift Shop', 'Main Hall', 'Special Exhibit', 'Main Hall', 'Restrooms',\n",
        "        'Main Hall', 'Entrance/Exit Hall', 'Exit',\n",
        "        #Yana Yelnikova\n",
        "        'Entrance', 'Entrance/Exit Hall', 'Main Hall', 'Main Exhibit', 'Main Hall',\n",
        "        'Gift Shop', 'Main Hall', 'Special Exhibit', 'Main Hall', 'Restrooms',\n",
        "        'Main Hall', 'Entrance/Exit Hall', 'Exit',\n",
        "        #Serhii Sotnichenko\n",
        "        'Entrance', 'Entrance/Exit Hall', 'Main Hall', 'Main Exhibit', 'Main Hall',\n",
        "        'Gift Shop', 'Main Hall', 'Special Exhibit', 'Main Hall', 'Restrooms',\n",
        "        'Main Hall', 'Entrance/Exit Hall', 'Exit',\n",
        "        #Mindo Siagian Kern\n",
        "        'Entrance', 'Entrance/Exit Hall', 'Main Hall', 'Main Exhibit', 'Main Hall',\n",
        "        'Gift Shop', 'Main Hall', 'Special Exhibit', 'Main Hall', 'Restrooms',\n",
        "        'Main Hall', 'Entrance/Exit Hall', 'Exit',\n",
        "        #Thomas Koehler\n",
        "        'Entrance', 'Entrance/Exit Hall', 'Main Hall', 'Main Exhibit', 'Main Hall',\n",
        "        'Gift Shop', 'Main Hall', 'Special Exhibit', 'Main Hall', 'Restrooms',\n",
        "        'Main Hall', 'Entrance/Exit Hall', 'Exit',\n",
        "        # #Lars Petschke\n",
        "        'Entrance', 'Entrance/Exit Hall', 'Main Hall', 'Main Exhibit', 'Main Hall',\n",
        "        'Gift Shop', 'Main Hall', 'Special Exhibit', 'Main Hall', 'Restrooms',\n",
        "        'Main Hall', 'Entrance/Exit Hall', 'Exit',\n",
        "        # #Mahdi Aminmoghaddasi\n",
        "        'Entrance', 'Entrance/Exit Hall', 'Main Hall', 'Main Exhibit', 'Main Hall',\n",
        "        'Gift Shop', 'Main Hall', 'Special Exhibit', 'Main Hall', 'Restrooms',\n",
        "        'Main Hall', 'Entrance/Exit Hall', 'Exit',\n",
        "        # #Martin Svitek\n",
        "        'Entrance', 'Entrance/Exit Hall', 'Main Hall', 'Main Exhibit', 'Main Hall',\n",
        "        'Gift Shop', 'Main Hall', 'Special Exhibit', 'Main Hall', 'Restrooms',\n",
        "        'Main Hall', 'Entrance/Exit Hall', 'Exit',\n",
        "        # #Konstantin Milonas\n",
        "        'Entrance', 'Entrance/Exit Hall', 'Main Hall', 'Main Exhibit', 'Main Hall',\n",
        "        'Gift Shop', 'Main Hall', 'Special Exhibit', 'Main Hall', 'Restrooms',\n",
        "        'Main Hall', 'Entrance/Exit Hall', 'Exit',\n",
        "        # Roksena Ilieva\n",
        "        'Entrance', 'Entrance/Exit Hall', 'Main Hall', 'Main Exhibit', 'Main Hall',\n",
        "        'Gift Shop', 'Main Hall', 'Special Exhibit', 'Main Hall', 'Restrooms',\n",
        "        'Main Hall', 'Entrance/Exit Hall', 'Exit'\n",
        "    ],\n",
        "    'time_entered': [\n",
        "        #Michael Smith\n",
        "        '09:30 AM', '09:31 AM', '09:33 AM', '09:36 AM', '09:40 AM',\n",
        "        '09:50 AM', '09:55 AM', '10:05 AM', '10:10 AM', '10:20 AM',\n",
        "        '10:25 AM', '10:30 AM', '10:40 AM', '10:50 AM', '10:55 AM',\n",
        "        '11:05 AM', '11:15 AM', '11:20 AM', '11:25 AM', '11:29 AM', '11:30 AM',\n",
        "         #Sarah Marlow\n",
        "        '9:45 AM', '9:50 AM', '9:55 AM', '10:00 AM', '10:05 AM',\n",
        "        '10:10 AM', '10:15 AM', '10:20 AM', '10:25 AM', '10:30 AM',\n",
        "        '10:35 AM', '10:40 AM', '10:45 AM', '10:50 AM', '10:55 AM',\n",
        "        '11:00 AM', '11:05 AM', '11:10 AM',\n",
        "        #Harry Belafonte\n",
        "        '10:00 AM', '10:05 AM', '10:10 AM', '10:15 AM', '10:20 AM',\n",
        "        '10:25 AM', '10:30 AM', '10:35 AM', '10:40 AM', '10:45 AM',\n",
        "        '10:50 AM', '10:55 AM', '11:00 AM', '11:05 AM', '11:10 AM',\n",
        "        #Peter Harris\n",
        "        '9:50 AM', '9:55 AM', '10:00 AM', '10:05 AM', '10:10 AM',\n",
        "        '10:15 AM', '10:20 AM', '10:25 AM', '10:30 AM', '10:35 AM',\n",
        "        '10:40 AM', '10:45 AM', '10:50 AM', '10:55 AM',\n",
        "         #Karen Heights\n",
        "        '10:05 AM', '10:10 AM', '10:15 AM', '10:20 AM', '10:25 AM',\n",
        "        '10:30 AM', '10:35 AM', '10:40 AM', '10:45 AM', '10:50 AM',\n",
        "        '10:55 AM', '11:00 AM', '11:05 AM', '11:10 AM', '11:15 AM',\n",
        "        #Steve Allington\n",
        "        '10:15 AM', '10:20 AM', '10:25 AM', '10:30 AM', '10:35 AM',\n",
        "        '10:40 AM', '10:45 AM', '10:50 AM', '10:55 AM', '11:00 AM',\n",
        "        '11:05 AM', '11:10 AM', '11:15 AM', '11:20 AM', '11:25 AM',\n",
        "        #Ines Mallus\n",
        "        '10:25 AM', '10:30 AM', '10:35 AM', '10:40 AM', '10:45 AM',\n",
        "        '10:50 AM', '10:55 AM', '11:00 AM', '11:05 AM', '11:10 AM',\n",
        "        '11:15 AM', '11:20 AM', '11:25 AM',\n",
        "        #John Atticks\n",
        "        '10:35 AM', '10:40 AM', '10:45 AM', '10:50 AM', '10:55 AM',\n",
        "        '11:00 AM', '11:05 AM', '11:10 AM', '11:15 AM', '11:20 AM',\n",
        "        '11:25 AM', '11:30 AM', '11:35 AM', '11:40 AM',\n",
        "        #Lisa Mayer\n",
        "        '10:45 AM', '10:50 AM', '10:55 AM', '11:00 AM', '11:05 AM',\n",
        "        '11:10 AM', '11:15 AM', '11:20 AM', '11:25 AM', '11:30 AM',\n",
        "        '11:35 AM', '11:40 AM', '11:45 AM', '11:50 AM', '11:55 AM',\n",
        "        #Robert Schopf\n",
        "        '9:55 AM', '10:00 AM', '10:05 AM', '10:10 AM', '10:15 AM',\n",
        "        '10:20 AM', '10:25 AM', '10:30 AM', '10:35 AM', '10:40 AM',\n",
        "        '10:45 AM', '10:50 AM', '10:55 AM', '11:00 AM',\n",
        "        #Anja Schmoekel\n",
        "        '10:10 AM', '10:15 AM', '10:20 AM', '10:25 AM', '10:30 AM',\n",
        "        '10:35 AM', '10:40 AM', '10:45 AM', '10:50 AM', '10:55 AM',\n",
        "        '11:00 AM', '11:05 AM', '11:35 AM',\n",
        "        #Sebastian Bangemann\n",
        "        '10:20 AM', '10:25 AM', '10:30 AM', '10:35 AM', '10:40 AM',\n",
        "        '10:45 AM', '10:50 AM', '10:55 AM', '11:00 AM', '11:05 AM',\n",
        "        '11:10 AM', '11:15 AM', '11:35 AM',\n",
        "        #Vida Abbasi\n",
        "        '10:30 AM', '10:35 AM', '10:40 AM', '10:45 AM', '10:50 AM',\n",
        "        '10:55 AM', '11:00 AM', '11:05 AM', '11:10 AM', '11:15 AM',\n",
        "        '11:20 AM', '11:25 AM', '11:35 AM',\n",
        "        #Odilon Patrick Ogue\n",
        "        '10:40 AM', '10:45 AM', '10:50 AM', '10:55 AM', '11:00 AM',\n",
        "        '11:05 AM', '11:10 AM', '11:15 AM', '11:20 AM', '11:25 AM',\n",
        "        '11:30 AM', '11:35 AM', '11:35 AM',\n",
        "        #Snezana Kostic\n",
        "        '10:50 AM', '10:55 AM', '11:00 AM', '11:05 AM', '11:10 AM',\n",
        "        '11:15 AM', '11:20 AM', '11:25 AM', '11:30 AM', '11:35 AM',\n",
        "        '11:20 AM', '11:25 AM', '11:35 AM',\n",
        "        #Marianna Gokova\n",
        "        '10:00 AM', '10:05 AM', '10:10 AM', '10:15 AM', '10:20 AM', '10:25 AM', '10:30 AM',\n",
        "        '10:45 AM', '11:00 AM', '11:15 AM', '11:25 AM', '11:30 AM', '11:35 AM',\n",
        "        #Yana Yelnikova\n",
        "        '10:10 AM', '10:15 AM', '10:20 AM', '10:25 AM', '10:30 AM', '10:35 AM', '10:40 AM',\n",
        "        '10:45 AM', '10:50 AM', '10:55 AM', '11:00 AM', '11:15 PM', '11:35 PM',\n",
        "        #Serhii Sotnichenko\n",
        "        '11:20 AM', '11:25 AM', '11:30 AM', '11:35 AM', '11:40 AM', '11:45 AM', '11:50 AM',\n",
        "        '11:55 AM', '12:00 PM', '12:05 PM', '12:10 PM', '12:15 PM', '12:20 PM',\n",
        "        # Mindo Siagian Kern\n",
        "        '10:30 AM', '10:35 AM', '10:40 AM', '10:45 AM', '10:50 AM', '10:55 AM', '11:00 AM',\n",
        "        '11:05 AM', '11:10 AM', '11:15 AM', '11:20 AM', '11:25 AM', '11:30 AM',\n",
        "        # Thomas Koehler\n",
        "        '10:40 AM', '10:45 AM', '10:50 AM', '10:55 AM', '11:00 AM', '11:05 AM', '11:10 AM',\n",
        "        '11:15 AM', '11:20 AM', '11:25 AM', '11:30 AM', '11:35 AM', '11:40 AM',\n",
        "        # Lars Petschke\n",
        "        '10:50 AM', '10:55 AM', '11:00 AM', '11:05 AM', '11:10 AM', '11:15 AM', '11:20 AM',\n",
        "        '11:25 AM', '11:30 AM', '11:35 AM', '11:40 AM', '11:45 AM', '11:50 AM',\n",
        "        # Mahdi Aminmoghaddasi\n",
        "        '11:00 AM', '11:05 AM', '11:10 AM', '11:15 AM', '11:20 AM', '11:25 AM', '11:30 AM',\n",
        "        '11:35 AM', '11:40 AM', '11:45 AM', '11:50 AM', '11:55 AM', '12:00 PM',\n",
        "        # Martin Svitek\n",
        "        '11:10 AM', '11:15 AM', '11:20 AM', '11:25 AM', '11:30 AM', '11:35 AM', '11:40 AM',\n",
        "        '11:45 AM', '11:50 AM', '11:55 AM', '12:00 PM', '12:05 PM', '12:10 PM',\n",
        "        # Konstantin Milonas\n",
        "        '11:20 AM', '11:25 AM', '11:30 AM', '11:35 AM', '11:40 AM', '11:45 AM', '11:50 AM',\n",
        "        '11:55 AM', '12:00 PM', '12:05 PM', '12:10 PM', '12:15 PM', '12:20 PM',\n",
        "        # Roksena Ilieva\n",
        "        '11:30 AM', '11:35 AM', '11:40 AM', '11:45 AM', '11:50 AM', '11:55 AM', '12:00 PM',\n",
        "        '12:05 PM', '12:10 PM', '12:15 PM', '12:20 PM', '12:25 PM', '12:30 PM'\n",
        "    ]})\n",
        "\n",
        "gift_shop_purchases = pd.DataFrame(\n",
        "  [\n",
        "    {'visitor_id': 'V001', 'purchase_time': '09:40 AM', 'Souvenir_Artikel': 'Umhaengetasche'},\n",
        "    {'visitor_id': 'V002', 'purchase_time': '10:00 AM', 'Souvenir_Artikel': 'Schlüsselanhänger'},\n",
        "    {'visitor_id': 'V002', 'purchase_time': '10:55 AM', 'Souvenir_Artikel': 'Magnet'},\n",
        "    {'visitor_id': 'V003', 'purchase_time': '10:25 AM', 'Souvenir_Artikel': 'Schlüsselanhänger'},\n",
        "    {'visitor_id': 'V004', 'purchase_time': '10:00 AM', 'Souvenir_Artikel': 'Postkarte'},\n",
        "    {'visitor_id': 'V005', 'purchase_time': '10:30 AM', 'Souvenir_Artikel': 'Schlüsselanhänger'},\n",
        "    {'visitor_id': 'V006', 'purchase_time': '10:45 AM', 'Souvenir_Artikel': 'Notizbuch'},\n",
        "    {'visitor_id': 'V007', 'purchase_time': '10:40 AM', 'Souvenir_Artikel': 'Buch'},\n",
        "    {'visitor_id': 'V008', 'purchase_time': '11:05 AM', 'Souvenir_Artikel': 'Postkarte'},\n",
        "    {'visitor_id': 'V009', 'purchase_time': '11:10 AM', 'Souvenir_Artikel': 'Buch'},\n",
        "    {'visitor_id': 'V010', 'purchase_time': '10:45 AM', 'Souvenir_Artikel': 'T-Shirt'},\n",
        "    {'visitor_id': 'V011', 'purchase_time': '10:25 AM', 'Souvenir_Artikel': 'Postkarte'},\n",
        "    {'visitor_id': 'V012', 'purchase_time': '10:45 AM', 'Souvenir_Artikel': 'Schlüsselanhänger'},\n",
        "    {'visitor_id': 'V013', 'purchase_time': '10:45 AM', 'Souvenir_Artikel': 'Postkarte'},\n",
        "    {'visitor_id': 'V014', 'purchase_time': '11:05 AM', 'Souvenir_Artikel': 'Tasse'},\n",
        "    {'visitor_id': 'V015', 'purchase_time': '11:05 AM', 'Souvenir_Artikel': 'Postkarte'},\n",
        "    {'visitor_id': 'V016', 'purchase_time': '10:25 AM', 'Souvenir_Artikel': 'Buch'},\n",
        "    {'visitor_id': 'V017', 'purchase_time': '10:35 AM', 'Souvenir_Artikel': 'Postkarte'},\n",
        "    {'visitor_id': 'V018', 'purchase_time': '11:45 AM', 'Souvenir_Artikel': 'Schlüsselanhänger'},\n",
        "    {'visitor_id': 'V019', 'purchase_time': '10:55 AM', 'Souvenir_Artikel': 'Schlüsselanhänger'},\n",
        "    {'visitor_id': 'V020', 'purchase_time': '11:05 AM', 'Souvenir_Artikel': 'Tasse'},\n",
        "    {'visitor_id': 'V021', 'purchase_time': '11:15 AM', 'Souvenir_Artikel': 'Postkarte'},\n",
        "    {'visitor_id': 'V022', 'purchase_time': '11:25 AM', 'Souvenir_Artikel': 'Buch'},\n",
        "    {'visitor_id': 'V023', 'purchase_time': '11:35 AM', 'Souvenir_Artikel': 'T-Shirt'},\n",
        "    {'visitor_id': 'V024', 'purchase_time': '11:45 AM', 'Souvenir_Artikel': 'Buch'},\n",
        "    {'visitor_id': 'V025', 'purchase_time': '11:55 AM', 'Souvenir_Artikel': 'Postkarte'}\n",
        "])\n",
        "\n",
        "\n",
        "employees = pd.DataFrame([\n",
        "    {'employee_id': 'E001', 'employee_name': 'Klaas Heufer-Umlauf', 'Position': 'Security Guard'},\n",
        "    {'employee_id': 'E002', 'employee_name': 'Micky Beisenherz', 'Position': 'Security Guard'},\n",
        "    {'employee_id': 'E003', 'employee_name': 'Steven Gaetjen', 'Position': 'Security Guard'},\n",
        "    {'employee_id': 'E004', 'employee_name': 'Joko Winterscheidt', 'Position': 'Security Guard'},\n",
        "    {'employee_id': 'E005', 'employee_name': 'Chris Martin', 'Position': 'Security Guard'},\n",
        "    {'employee_id': 'E006', 'employee_name': 'Steffen Hennssler', 'Position': 'Sales Souvenir Shop'},\n",
        "    {'employee_id': 'E007', 'employee_name': 'Sandra Maischberger', 'Position': 'Ticket Sales'},\n",
        "    {'employee_id': 'E008', 'employee_name': 'Felix Lobrecht', 'Position': 'Electrician'}\n",
        "])\n",
        "\n",
        "\n",
        "employee_shifts = pd.DataFrame({\n",
        "    'employee_id': ['E001'] * 5 + ['E002'] * 5 + ['E003'] * 5 + ['E004'] * 5 + ['E005'] * 5 + ['E006'] * 5 + ['E007'] * 5+ ['E008'] * 5,\n",
        "    'shift_start': [\n",
        "        '09:00 AM', '10:00 AM', '11:00 AM', '01:00 PM', '02:00 PM']*8,\n",
        "    'shift_end': [\n",
        "        '10:00 AM', '11:00 AM', '01:00 PM', '02:00 PM', '03:00 PM']*8,\n",
        "    'room_assigned': [\n",
        "        'Gift Shop', 'Main Hall', 'Entrance/Exit Hall', 'Main Exhibit',  'Special Exhibit', # Klaas Heufer-Umlauf\n",
        "        'Main Hall', 'Main Exhibit', 'Gift Shop', 'Special Exhibit', 'Entrance/Exit Hall', # Micky Beisenherz\n",
        "        'Main Exhibit', 'Main Hall', 'Special Exhibit', 'Gift Shop', 'Main Exhibit', # Steven Gaetjen\n",
        "        'Special Exhibit', 'Main Exhibit', 'Gift Shop', 'Main Hall', 'Entrance/Exit Hall',  # Joko Winterscheidt\n",
        "        'Main Hall', 'Main Exhibit', 'Entrance/Exit Hall', 'Main Exhibit', 'Gift Shop', # Chris Martin\n",
        "        'Gift Shop', 'Gift Shop', 'Gift Shop', 'Gift Shop', 'Gift Shop', # Steffen Hennssler'\n",
        "        'Ticket Office','Ticket Office','Ticket Office','Ticket Office','Ticket Office', #Sandra Maischberger'\n",
        "        'Regel- und Elektroverteilungsraum','Regel- und Elektroverteilungsraum','Regel- und Elektroverteilungsraum','Regel- und Elektroverteilungsraum','Regel- und Elektroverteilungsraum', #Felix Lobrecht'\n",
        "        ]})\n",
        "\n",
        "employee_logs = pd.DataFrame({\n",
        "    'employee_id': ['E001'] * 8 + ['E002'] * 12 + ['E003'] * 18 + ['E004'] * 9 + ['E005'] * 7 + ['E006'] * 6 + ['E007'] * 6 + ['E008'] * 10,\n",
        "    'building_section': [\n",
        "        #Klaas Heufer-Umlauf\n",
        "        'Staff Entrance/Exit', 'Staff Dressing Room','Gift Shop','Main Hall','Staff Restroom', 'Entrance/Exit Hall','Staff Dressing Room','Staff Entrance/Exit',\n",
        "        #Micky Beisenherz\n",
        "        'Staff Entrance/Exit', 'Staff Dressing Room','Main Hall', 'Main Exhibit', 'Gift Shop','Main Hall','Staff Restroom','Main Hall','Gift Shop','Entrance/Exit Hall','Staff Dressing Room','Staff Entrance/Exit',\n",
        "        # Steven Gaetjen\n",
        "         'Staff Entrance/Exit', 'Staff Dressing Room', 'Main Hall', 'Main Exhibit', 'Main Hall','Regel- und Elektroverteilungsraum','Main Hall','Special Exhibit','Main Hall','Restroom','Main Hall','Staff Entrance/Exit','Main Hall','Special Exhibit', 'Main Hall','Entrance/Exit Hall','Staff Dressing Room','Staff Entrance/Exit',\n",
        "        # Joko Winterscheidt\n",
        "         'Staff Entrance/Exit', 'Staff Dressing Room', 'Main Hall','Special Exhibit','Main Exhibit', 'Gift Shop','Entrance/Exit Hall','Staff Dressing Room','Staff Entrance/Exit',\n",
        "        # Chris Martin\n",
        "        'Staff Entrance/Exit', 'Staff Dressing Room','Main Hall', 'Main Exhibit', 'Entrance/Exit Hall','Staff Dressing Room','Staff Entrance/Exit',\n",
        "        # Steffen Hennssler'\n",
        "        'Staff Entrance/Exit', 'Staff Dressing Room', 'Gift Shop','Entrance/Exit Hall','Staff Dressing Room','Staff Entrance/Exit',\n",
        "        #Sandra Maischberger'\n",
        "        'Staff Entrance/Exit', 'Staff Dressing Room', 'Ticket Office','Entrance/Exit Hall','Staff Dressing Room','Staff Entrance/Exit',\n",
        "        #Felix Lobrecht'\n",
        "        'Staff Entrance/Exit', 'Staff Dressing Room','Regel- und Elektroverteilungsraum', 'Main Hall', 'Staff Restroom','Regel- und Elektroverteilungsraum','Entrance/Exit Hall','Regel- und Elektroverteilungsraum','Staff Dressing Room','Staff Entrance/Exit',\n",
        "    ],\n",
        "    'time_entered': [\n",
        "        #Klaas Heufer-Umlauf\n",
        "         '08:30 AM', '08:31 AM','08:50 AM','10:00 AM','10:55 AM', '11:00 AM','03:30 PM', '03:40 PM',\n",
        "        #Micky Beisenherz\n",
        "        '08:30 AM', '08:31 AM','08:50 AM', '10:00 AM', '11:00 AM','11:15 AM','11:17 AM','11:20 AM','11:25 AM','11:35 AM','03:30 PM', '03:40 PM',\n",
        "        # Steven Gaetjen\n",
        "        '08:30 AM', '08:31 AM', '08:50 AM', '08:51 AM', '10:40 AM','10:45 AM','10:50 AM','11:00 AM','11:14 AM','11:15 AM','11:25 AM','11:27 AM','11:30 AM','11:31 AM','11:33 AM','11:35 AM','03:30 PM', '03:40 PM',\n",
        "        # Joko Winterscheidt\n",
        "        '08:30 AM', '08:31 AM', '08:50 AM', '08:51 AM','10:00 AM', '11:00 AM', '11:35 AM','03:30 PM', '03:40 PM',\n",
        "        # Chris Martin\n",
        "         '08:30 AM', '08:31 AM', '08:50 AM','10:00 AM', '11:00 AM','03:30 PM', '03:40 PM',\n",
        "        # Steffen Hennssler'\n",
        "        '08:30 AM', '08:31 AM', '08:50 AM', '11:35 AM','03:30 PM', '03:40 PM',\n",
        "        #Sandra Maischberger'\n",
        "         '08:30 AM', '08:31 AM', '08:50 AM', '11:35 AM','03:30 PM', '03:40 PM',\n",
        "        #Felix Lobrecht'\n",
        "        '08:00 AM', '08:02 AM', '08:10 AM','10:39 AM', '10:41 AM', '10:53 AM', '11:59 AM', '12:30 PM','03:30 PM', '03:40 PM'\n",
        "    ]})\n",
        "\n",
        "witness_statements = pd.DataFrame({'visitor_id': [\n",
        "  'V001',\n",
        "  'V006',\n",
        "  'V007',\n",
        "  'V009',\n",
        "  'V013',\n",
        "  'V014',\n",
        "  'V015',\n",
        "  'V019',\n",
        "  'V021',\n",
        "  'V022'],\n",
        " 'aussage_script': [\n",
        "  'Ich sah jemanden schnell aus dem Notausgang laufen.',\n",
        "  'Eine Person im grauen Mantel schien nervös zu sein.',\n",
        "  'Der Museumsmitarbeiter war anfangs am Eingang, verschwand dann.',\n",
        "  'Die Sicherheitskameras hatten rote Kontrollleuchten.',\n",
        "  'Ich habe ein Klirren aus dem hinteren Teil der Ausstellung gehört.',\n",
        "  'Jemand hat mit einem Museumsmitarbeiter in einem anderen Bereich des Musuems heftig diskutiert.',\n",
        "  'Eine Fluchttür war offen, obwohl sie normalerweise geschlossen ist.',\n",
        "  'Ein Kind weinte, weil es seine in der Dunkelheit nicht finden konnte.',\n",
        "  'Ein Besucher versuchte ein Objekt ohne Erlaubnis zu berühren.',\n",
        "  'Ich sah eine Person mit einer großen Tasche aus dem Bereich kommen, wo die Ming-Vase stand.']})\n",
        "\n",
        "# Time_logs in datetime konvertieren\n",
        "visitor_logs['time_entered'] = pd.to_datetime('2025-08-01 ' + visitor_logs['time_entered'], format='%Y-%m-%d %I:%M %p')\n",
        "employee_shifts['shift_start'] = pd.to_datetime('2025-08-01 ' + employee_shifts['shift_start'], format='%Y-%m-%d %I:%M %p')\n",
        "employee_shifts['shift_end'] = pd.to_datetime('2025-08-01 ' + employee_shifts['shift_end'], format='%Y-%m-%d %I:%M %p')\n",
        "employee_logs['time_entered'] = pd.to_datetime('2025-08-01 ' + employee_logs['time_entered'], format='%Y-%m-%d %I:%M %p')\n",
        "\n",
        "\n",
        "# DB Tables in SQLite\n",
        "visitors.to_sql('visitors', conn, index=False, if_exists='replace')\n",
        "visitor_logs.to_sql('visitor_logs', conn, index=False, if_exists='replace')\n",
        "gift_shop_purchases.to_sql('gift_shop_purchases', conn, index=False, if_exists='replace')\n",
        "employee_shifts.to_sql('employee_shifts', conn, index=False, if_exists='replace')\n",
        "employee_logs.to_sql('employee_logs', conn, index=False, if_exists='replace')\n",
        "employees.to_sql('employees', conn, index=False, if_exists='replace')\n",
        "witness_statements.to_sql('witness_statements', conn, index=False, if_exists='replace')"
      ]
    },
    {
      "cell_type": "markdown",
      "id": "O7bx43DqM6Cr",
      "metadata": {
        "id": "O7bx43DqM6Cr"
      },
      "source": [
        "## 🧩 Übersicht Tabellen\n",
        "\n",
        "| **Tabelle**            | **Beschreibung**                                                                                                          |\n",
        "|-----------------------|----------------------------------------------------------------------------------------------------------------------------|\n",
        "| **visitors**           | Enthält Informationen über die Besucher des Museums, einschließlich der Besucher-ID (`visitor_id`), ihres Namens und des Ticket-Typs, z. B. mit freien Souvenirs. |\n",
        "| **visitor_logs**       | Zeichnet die Bewegungen der Besucher innerhalb des Museums auf, einschließlich der betretenen Bereiche (`building_section`) und Zeitstempel (`time_entered`).    |\n",
        "| **gift_shop_purchases**| Dokumentiert Käufe im Souvenirshop, einschließlich der Besucher-ID (`visitor_id`), der gekauften Artikel (`Souvenir_Artikel`) und der Kaufzeit (`purchase_time`).                                |\n",
        "| **employees**          | Beinhaltet Informationen über die Mitarbeiter, wie die Mitarbeiter-ID (`employee_id`), den Namen und die zugewiesene Position im Museum.                         |\n",
        "| **employee_shifts**    | Verzeichnet die Arbeitszeiten der Mitarbeiter, einschließlich Beginn (`shift_start`), Ende (`shift_end`) und der zugewiesenen Räume (`room_assigned`).            |\n",
        "| **employee_logs**      | Protokolliert die Bewegungen der Mitarbeiter innerhalb des Museums, mit Einträgen zu den betretenen Bereichen und den Zeitpunkten (`time_entered`).              |\n",
        "| **witness_statements** | Enthält Aussagen von Zeugen im Zusammenhang mit Vorfällen im Museum. Jede Aussage ist einer bestimmten Besucher-ID (`visitor_id`) zugeordnet.   "
      ]
    },
    {
      "cell_type": "markdown",
      "id": "902ebaaf",
      "metadata": {
        "id": "902ebaaf"
      },
      "source": [
        "\n",
        "## 🔍 1. Wer war zur Tatzeit am Tatort?\n"
      ]
    },
    {
      "cell_type": "markdown",
      "id": "JG0Z-Xr7pkjy",
      "metadata": {
        "id": "JG0Z-Xr7pkjy"
      },
      "source": [
        "###SQL Query ✍️"
      ]
    },
    {
      "cell_type": "code",
      "execution_count": 5,
      "id": "pfDYsFnroycg",
      "metadata": {
        "colab": {
          "base_uri": "https://localhost:8080/",
          "height": 365
        },
        "id": "pfDYsFnroycg",
        "outputId": "35f741f0-aa9a-44f5-bd7e-fbae9890c693"
      },
      "outputs": [
        {
          "data": {
            "text/html": [
              "<div>\n",
              "<style scoped>\n",
              "    .dataframe tbody tr th:only-of-type {\n",
              "        vertical-align: middle;\n",
              "    }\n",
              "\n",
              "    .dataframe tbody tr th {\n",
              "        vertical-align: top;\n",
              "    }\n",
              "\n",
              "    .dataframe thead th {\n",
              "        text-align: right;\n",
              "    }\n",
              "</style>\n",
              "<table border=\"1\" class=\"dataframe\">\n",
              "  <thead>\n",
              "    <tr style=\"text-align: right;\">\n",
              "      <th></th>\n",
              "      <th>visitor_id</th>\n",
              "      <th>visitor_name</th>\n",
              "      <th>ticket_type</th>\n",
              "    </tr>\n",
              "  </thead>\n",
              "  <tbody>\n",
              "    <tr>\n",
              "      <th>0</th>\n",
              "      <td>V001</td>\n",
              "      <td>Michael Smith</td>\n",
              "      <td>entry + free souvenir item</td>\n",
              "    </tr>\n",
              "    <tr>\n",
              "      <th>1</th>\n",
              "      <td>V002</td>\n",
              "      <td>Sarah Marlow</td>\n",
              "      <td>entry + free souvenir item</td>\n",
              "    </tr>\n",
              "    <tr>\n",
              "      <th>2</th>\n",
              "      <td>V003</td>\n",
              "      <td>Harry Belafonte</td>\n",
              "      <td>entry + free drink</td>\n",
              "    </tr>\n",
              "    <tr>\n",
              "      <th>3</th>\n",
              "      <td>V004</td>\n",
              "      <td>Peter Harris</td>\n",
              "      <td>entry + free drink</td>\n",
              "    </tr>\n",
              "    <tr>\n",
              "      <th>4</th>\n",
              "      <td>V005</td>\n",
              "      <td>Karen Heights</td>\n",
              "      <td>entry + free souvenir item</td>\n",
              "    </tr>\n",
              "    <tr>\n",
              "      <th>5</th>\n",
              "      <td>V006</td>\n",
              "      <td>Steve Allington</td>\n",
              "      <td>entry + free souvenir item</td>\n",
              "    </tr>\n",
              "    <tr>\n",
              "      <th>6</th>\n",
              "      <td>V007</td>\n",
              "      <td>Ines Mallus</td>\n",
              "      <td>entry + free souvenir item</td>\n",
              "    </tr>\n",
              "    <tr>\n",
              "      <th>7</th>\n",
              "      <td>V008</td>\n",
              "      <td>John Atticks</td>\n",
              "      <td>entry + free drink</td>\n",
              "    </tr>\n",
              "    <tr>\n",
              "      <th>8</th>\n",
              "      <td>V009</td>\n",
              "      <td>Lisa Mayer</td>\n",
              "      <td>entry + free drink</td>\n",
              "    </tr>\n",
              "    <tr>\n",
              "      <th>9</th>\n",
              "      <td>V010</td>\n",
              "      <td>Robert Schopf</td>\n",
              "      <td>entry + free drink</td>\n",
              "    </tr>\n",
              "    <tr>\n",
              "      <th>10</th>\n",
              "      <td>V011</td>\n",
              "      <td>Anja Schmoekel</td>\n",
              "      <td>entry + free drink</td>\n",
              "    </tr>\n",
              "    <tr>\n",
              "      <th>11</th>\n",
              "      <td>V012</td>\n",
              "      <td>Sebastian Bangemann</td>\n",
              "      <td>entry + free drink</td>\n",
              "    </tr>\n",
              "    <tr>\n",
              "      <th>12</th>\n",
              "      <td>V013</td>\n",
              "      <td>Vida Abbasi</td>\n",
              "      <td>entry + free drink</td>\n",
              "    </tr>\n",
              "    <tr>\n",
              "      <th>13</th>\n",
              "      <td>V014</td>\n",
              "      <td>Odilon Patrick Ogue</td>\n",
              "      <td>entry + free drink</td>\n",
              "    </tr>\n",
              "    <tr>\n",
              "      <th>14</th>\n",
              "      <td>V015</td>\n",
              "      <td>Snezana Kostic</td>\n",
              "      <td>entry + free drink</td>\n",
              "    </tr>\n",
              "    <tr>\n",
              "      <th>15</th>\n",
              "      <td>V016</td>\n",
              "      <td>Marianna Gokova</td>\n",
              "      <td>entry + free souvenir item</td>\n",
              "    </tr>\n",
              "    <tr>\n",
              "      <th>16</th>\n",
              "      <td>V017</td>\n",
              "      <td>Yana Yelnikova</td>\n",
              "      <td>entry + free souvenir item</td>\n",
              "    </tr>\n",
              "    <tr>\n",
              "      <th>17</th>\n",
              "      <td>V018</td>\n",
              "      <td>Serhii Sotnichenko</td>\n",
              "      <td>entry + free souvenir item</td>\n",
              "    </tr>\n",
              "    <tr>\n",
              "      <th>18</th>\n",
              "      <td>V019</td>\n",
              "      <td>Mindo Siagian Kern</td>\n",
              "      <td>entry + free souvenir item</td>\n",
              "    </tr>\n",
              "    <tr>\n",
              "      <th>19</th>\n",
              "      <td>V020</td>\n",
              "      <td>Thomas Koehler</td>\n",
              "      <td>entry + free souvenir item</td>\n",
              "    </tr>\n",
              "    <tr>\n",
              "      <th>20</th>\n",
              "      <td>V021</td>\n",
              "      <td>Lars Petschke</td>\n",
              "      <td>entry + free souvenir item</td>\n",
              "    </tr>\n",
              "    <tr>\n",
              "      <th>21</th>\n",
              "      <td>V022</td>\n",
              "      <td>Mahdi Aminmoghaddasi</td>\n",
              "      <td>entry + free souvenir item</td>\n",
              "    </tr>\n",
              "    <tr>\n",
              "      <th>22</th>\n",
              "      <td>V023</td>\n",
              "      <td>Martin Svitek</td>\n",
              "      <td>entry + free drink</td>\n",
              "    </tr>\n",
              "    <tr>\n",
              "      <th>23</th>\n",
              "      <td>V024</td>\n",
              "      <td>Konstantin Milonas</td>\n",
              "      <td>entry + free drink</td>\n",
              "    </tr>\n",
              "    <tr>\n",
              "      <th>24</th>\n",
              "      <td>V025</td>\n",
              "      <td>Roksena Ilieva</td>\n",
              "      <td>entry + free drink</td>\n",
              "    </tr>\n",
              "  </tbody>\n",
              "</table>\n",
              "</div>"
            ],
            "text/plain": [
              "   visitor_id          visitor_name                 ticket_type\n",
              "0        V001         Michael Smith  entry + free souvenir item\n",
              "1        V002          Sarah Marlow  entry + free souvenir item\n",
              "2        V003       Harry Belafonte          entry + free drink\n",
              "3        V004          Peter Harris          entry + free drink\n",
              "4        V005         Karen Heights  entry + free souvenir item\n",
              "5        V006       Steve Allington  entry + free souvenir item\n",
              "6        V007           Ines Mallus  entry + free souvenir item\n",
              "7        V008          John Atticks          entry + free drink\n",
              "8        V009            Lisa Mayer          entry + free drink\n",
              "9        V010         Robert Schopf          entry + free drink\n",
              "10       V011        Anja Schmoekel          entry + free drink\n",
              "11       V012   Sebastian Bangemann          entry + free drink\n",
              "12       V013           Vida Abbasi          entry + free drink\n",
              "13       V014   Odilon Patrick Ogue          entry + free drink\n",
              "14       V015        Snezana Kostic          entry + free drink\n",
              "15       V016       Marianna Gokova  entry + free souvenir item\n",
              "16       V017        Yana Yelnikova  entry + free souvenir item\n",
              "17       V018    Serhii Sotnichenko  entry + free souvenir item\n",
              "18       V019    Mindo Siagian Kern  entry + free souvenir item\n",
              "19       V020        Thomas Koehler  entry + free souvenir item\n",
              "20       V021         Lars Petschke  entry + free souvenir item\n",
              "21       V022  Mahdi Aminmoghaddasi  entry + free souvenir item\n",
              "22       V023         Martin Svitek          entry + free drink\n",
              "23       V024    Konstantin Milonas          entry + free drink\n",
              "24       V025        Roksena Ilieva          entry + free drink"
            ]
          },
          "execution_count": 5,
          "metadata": {},
          "output_type": "execute_result"
        }
      ],
      "source": [
        "query_1 = '''\n",
        "SELECT * FROM visitors\n",
        "'''\n",
        "result_1 = pd.read_sql_query(query_1, conn)\n",
        "result_1\n"
      ]
    },
    {
      "cell_type": "markdown",
      "id": "FXbcpYejpzPy",
      "metadata": {
        "id": "FXbcpYejpzPy"
      },
      "source": [
        "###Python Code 🐍"
      ]
    },
    {
      "cell_type": "markdown",
      "id": "cmlgrM1yqND3",
      "metadata": {
        "id": "cmlgrM1yqND3"
      },
      "source": []
    },
    {
      "cell_type": "code",
      "execution_count": null,
      "id": "PYWVye5OqEVz",
      "metadata": {
        "colab": {
          "base_uri": "https://localhost:8080/",
          "height": 426
        },
        "id": "PYWVye5OqEVz",
        "outputId": "8b4293aa-f047-452a-abf0-bb1f7592c056"
      },
      "outputs": [
        {
          "data": {
            "application/vnd.google.colaboratory.intrinsic+json": {
              "summary": "{\n  \"name\": \"            visitor_logs[\\\"time_entered\\\"] <= '2025-08-01 11:30:00')]\",\n  \"rows\": 12,\n  \"fields\": [\n    {\n      \"column\": \"visitor_id\",\n      \"properties\": {\n        \"dtype\": \"string\",\n        \"num_unique_values\": 12,\n        \"samples\": [\n          \"V020\",\n          \"V019\",\n          \"V001\"\n        ],\n        \"semantic_type\": \"\",\n        \"description\": \"\"\n      }\n    },\n    {\n      \"column\": \"building_section\",\n      \"properties\": {\n        \"dtype\": \"category\",\n        \"num_unique_values\": 1,\n        \"samples\": [\n          \"Special Exhibit\"\n        ],\n        \"semantic_type\": \"\",\n        \"description\": \"\"\n      }\n    },\n    {\n      \"column\": \"time_entered\",\n      \"properties\": {\n        \"dtype\": \"date\",\n        \"min\": \"2025-08-01 11:00:00\",\n        \"max\": \"2025-08-01 11:25:00\",\n        \"num_unique_values\": 6,\n        \"samples\": [\n          \"2025-08-01 11:20:00\"\n        ],\n        \"semantic_type\": \"\",\n        \"description\": \"\"\n      }\n    }\n  ]\n}",
              "type": "dataframe"
            },
            "text/html": [
              "\n",
              "  <div id=\"df-55900ecf-3884-4269-8135-f680b37d2ee4\" class=\"colab-df-container\">\n",
              "    <div>\n",
              "<style scoped>\n",
              "    .dataframe tbody tr th:only-of-type {\n",
              "        vertical-align: middle;\n",
              "    }\n",
              "\n",
              "    .dataframe tbody tr th {\n",
              "        vertical-align: top;\n",
              "    }\n",
              "\n",
              "    .dataframe thead th {\n",
              "        text-align: right;\n",
              "    }\n",
              "</style>\n",
              "<table border=\"1\" class=\"dataframe\">\n",
              "  <thead>\n",
              "    <tr style=\"text-align: right;\">\n",
              "      <th></th>\n",
              "      <th>visitor_id</th>\n",
              "      <th>building_section</th>\n",
              "      <th>time_entered</th>\n",
              "    </tr>\n",
              "  </thead>\n",
              "  <tbody>\n",
              "    <tr>\n",
              "      <th>17</th>\n",
              "      <td>V001</td>\n",
              "      <td>Special Exhibit</td>\n",
              "      <td>2025-08-01 11:20:00</td>\n",
              "    </tr>\n",
              "    <tr>\n",
              "      <th>79</th>\n",
              "      <td>V005</td>\n",
              "      <td>Special Exhibit</td>\n",
              "      <td>2025-08-01 11:00:00</td>\n",
              "    </tr>\n",
              "    <tr>\n",
              "      <th>95</th>\n",
              "      <td>V006</td>\n",
              "      <td>Special Exhibit</td>\n",
              "      <td>2025-08-01 11:15:00</td>\n",
              "    </tr>\n",
              "    <tr>\n",
              "      <th>107</th>\n",
              "      <td>V007</td>\n",
              "      <td>Special Exhibit</td>\n",
              "      <td>2025-08-01 11:10:00</td>\n",
              "    </tr>\n",
              "    <tr>\n",
              "      <th>121</th>\n",
              "      <td>V008</td>\n",
              "      <td>Special Exhibit</td>\n",
              "      <td>2025-08-01 11:25:00</td>\n",
              "    </tr>\n",
              "    <tr>\n",
              "      <th>132</th>\n",
              "      <td>V009</td>\n",
              "      <td>Special Exhibit</td>\n",
              "      <td>2025-08-01 11:20:00</td>\n",
              "    </tr>\n",
              "    <tr>\n",
              "      <th>187</th>\n",
              "      <td>V013</td>\n",
              "      <td>Special Exhibit</td>\n",
              "      <td>2025-08-01 11:05:00</td>\n",
              "    </tr>\n",
              "    <tr>\n",
              "      <th>200</th>\n",
              "      <td>V014</td>\n",
              "      <td>Special Exhibit</td>\n",
              "      <td>2025-08-01 11:15:00</td>\n",
              "    </tr>\n",
              "    <tr>\n",
              "      <th>213</th>\n",
              "      <td>V015</td>\n",
              "      <td>Special Exhibit</td>\n",
              "      <td>2025-08-01 11:25:00</td>\n",
              "    </tr>\n",
              "    <tr>\n",
              "      <th>265</th>\n",
              "      <td>V019</td>\n",
              "      <td>Special Exhibit</td>\n",
              "      <td>2025-08-01 11:05:00</td>\n",
              "    </tr>\n",
              "    <tr>\n",
              "      <th>278</th>\n",
              "      <td>V020</td>\n",
              "      <td>Special Exhibit</td>\n",
              "      <td>2025-08-01 11:15:00</td>\n",
              "    </tr>\n",
              "    <tr>\n",
              "      <th>291</th>\n",
              "      <td>V021</td>\n",
              "      <td>Special Exhibit</td>\n",
              "      <td>2025-08-01 11:25:00</td>\n",
              "    </tr>\n",
              "  </tbody>\n",
              "</table>\n",
              "</div>\n",
              "    <div class=\"colab-df-buttons\">\n",
              "\n",
              "  <div class=\"colab-df-container\">\n",
              "    <button class=\"colab-df-convert\" onclick=\"convertToInteractive('df-55900ecf-3884-4269-8135-f680b37d2ee4')\"\n",
              "            title=\"Convert this dataframe to an interactive table.\"\n",
              "            style=\"display:none;\">\n",
              "\n",
              "  <svg xmlns=\"http://www.w3.org/2000/svg\" height=\"24px\" viewBox=\"0 -960 960 960\">\n",
              "    <path d=\"M120-120v-720h720v720H120Zm60-500h600v-160H180v160Zm220 220h160v-160H400v160Zm0 220h160v-160H400v160ZM180-400h160v-160H180v160Zm440 0h160v-160H620v160ZM180-180h160v-160H180v160Zm440 0h160v-160H620v160Z\"/>\n",
              "  </svg>\n",
              "    </button>\n",
              "\n",
              "  <style>\n",
              "    .colab-df-container {\n",
              "      display:flex;\n",
              "      gap: 12px;\n",
              "    }\n",
              "\n",
              "    .colab-df-convert {\n",
              "      background-color: #E8F0FE;\n",
              "      border: none;\n",
              "      border-radius: 50%;\n",
              "      cursor: pointer;\n",
              "      display: none;\n",
              "      fill: #1967D2;\n",
              "      height: 32px;\n",
              "      padding: 0 0 0 0;\n",
              "      width: 32px;\n",
              "    }\n",
              "\n",
              "    .colab-df-convert:hover {\n",
              "      background-color: #E2EBFA;\n",
              "      box-shadow: 0px 1px 2px rgba(60, 64, 67, 0.3), 0px 1px 3px 1px rgba(60, 64, 67, 0.15);\n",
              "      fill: #174EA6;\n",
              "    }\n",
              "\n",
              "    .colab-df-buttons div {\n",
              "      margin-bottom: 4px;\n",
              "    }\n",
              "\n",
              "    [theme=dark] .colab-df-convert {\n",
              "      background-color: #3B4455;\n",
              "      fill: #D2E3FC;\n",
              "    }\n",
              "\n",
              "    [theme=dark] .colab-df-convert:hover {\n",
              "      background-color: #434B5C;\n",
              "      box-shadow: 0px 1px 3px 1px rgba(0, 0, 0, 0.15);\n",
              "      filter: drop-shadow(0px 1px 2px rgba(0, 0, 0, 0.3));\n",
              "      fill: #FFFFFF;\n",
              "    }\n",
              "  </style>\n",
              "\n",
              "    <script>\n",
              "      const buttonEl =\n",
              "        document.querySelector('#df-55900ecf-3884-4269-8135-f680b37d2ee4 button.colab-df-convert');\n",
              "      buttonEl.style.display =\n",
              "        google.colab.kernel.accessAllowed ? 'block' : 'none';\n",
              "\n",
              "      async function convertToInteractive(key) {\n",
              "        const element = document.querySelector('#df-55900ecf-3884-4269-8135-f680b37d2ee4');\n",
              "        const dataTable =\n",
              "          await google.colab.kernel.invokeFunction('convertToInteractive',\n",
              "                                                    [key], {});\n",
              "        if (!dataTable) return;\n",
              "\n",
              "        const docLinkHtml = 'Like what you see? Visit the ' +\n",
              "          '<a target=\"_blank\" href=https://colab.research.google.com/notebooks/data_table.ipynb>data table notebook</a>'\n",
              "          + ' to learn more about interactive tables.';\n",
              "        element.innerHTML = '';\n",
              "        dataTable['output_type'] = 'display_data';\n",
              "        await google.colab.output.renderOutput(dataTable, element);\n",
              "        const docLink = document.createElement('div');\n",
              "        docLink.innerHTML = docLinkHtml;\n",
              "        element.appendChild(docLink);\n",
              "      }\n",
              "    </script>\n",
              "  </div>\n",
              "\n",
              "\n",
              "<div id=\"df-981cb0f1-2e71-4919-92f2-35ffdb8f0d4c\">\n",
              "  <button class=\"colab-df-quickchart\" onclick=\"quickchart('df-981cb0f1-2e71-4919-92f2-35ffdb8f0d4c')\"\n",
              "            title=\"Suggest charts\"\n",
              "            style=\"display:none;\">\n",
              "\n",
              "<svg xmlns=\"http://www.w3.org/2000/svg\" height=\"24px\"viewBox=\"0 0 24 24\"\n",
              "     width=\"24px\">\n",
              "    <g>\n",
              "        <path d=\"M19 3H5c-1.1 0-2 .9-2 2v14c0 1.1.9 2 2 2h14c1.1 0 2-.9 2-2V5c0-1.1-.9-2-2-2zM9 17H7v-7h2v7zm4 0h-2V7h2v10zm4 0h-2v-4h2v4z\"/>\n",
              "    </g>\n",
              "</svg>\n",
              "  </button>\n",
              "\n",
              "<style>\n",
              "  .colab-df-quickchart {\n",
              "      --bg-color: #E8F0FE;\n",
              "      --fill-color: #1967D2;\n",
              "      --hover-bg-color: #E2EBFA;\n",
              "      --hover-fill-color: #174EA6;\n",
              "      --disabled-fill-color: #AAA;\n",
              "      --disabled-bg-color: #DDD;\n",
              "  }\n",
              "\n",
              "  [theme=dark] .colab-df-quickchart {\n",
              "      --bg-color: #3B4455;\n",
              "      --fill-color: #D2E3FC;\n",
              "      --hover-bg-color: #434B5C;\n",
              "      --hover-fill-color: #FFFFFF;\n",
              "      --disabled-bg-color: #3B4455;\n",
              "      --disabled-fill-color: #666;\n",
              "  }\n",
              "\n",
              "  .colab-df-quickchart {\n",
              "    background-color: var(--bg-color);\n",
              "    border: none;\n",
              "    border-radius: 50%;\n",
              "    cursor: pointer;\n",
              "    display: none;\n",
              "    fill: var(--fill-color);\n",
              "    height: 32px;\n",
              "    padding: 0;\n",
              "    width: 32px;\n",
              "  }\n",
              "\n",
              "  .colab-df-quickchart:hover {\n",
              "    background-color: var(--hover-bg-color);\n",
              "    box-shadow: 0 1px 2px rgba(60, 64, 67, 0.3), 0 1px 3px 1px rgba(60, 64, 67, 0.15);\n",
              "    fill: var(--button-hover-fill-color);\n",
              "  }\n",
              "\n",
              "  .colab-df-quickchart-complete:disabled,\n",
              "  .colab-df-quickchart-complete:disabled:hover {\n",
              "    background-color: var(--disabled-bg-color);\n",
              "    fill: var(--disabled-fill-color);\n",
              "    box-shadow: none;\n",
              "  }\n",
              "\n",
              "  .colab-df-spinner {\n",
              "    border: 2px solid var(--fill-color);\n",
              "    border-color: transparent;\n",
              "    border-bottom-color: var(--fill-color);\n",
              "    animation:\n",
              "      spin 1s steps(1) infinite;\n",
              "  }\n",
              "\n",
              "  @keyframes spin {\n",
              "    0% {\n",
              "      border-color: transparent;\n",
              "      border-bottom-color: var(--fill-color);\n",
              "      border-left-color: var(--fill-color);\n",
              "    }\n",
              "    20% {\n",
              "      border-color: transparent;\n",
              "      border-left-color: var(--fill-color);\n",
              "      border-top-color: var(--fill-color);\n",
              "    }\n",
              "    30% {\n",
              "      border-color: transparent;\n",
              "      border-left-color: var(--fill-color);\n",
              "      border-top-color: var(--fill-color);\n",
              "      border-right-color: var(--fill-color);\n",
              "    }\n",
              "    40% {\n",
              "      border-color: transparent;\n",
              "      border-right-color: var(--fill-color);\n",
              "      border-top-color: var(--fill-color);\n",
              "    }\n",
              "    60% {\n",
              "      border-color: transparent;\n",
              "      border-right-color: var(--fill-color);\n",
              "    }\n",
              "    80% {\n",
              "      border-color: transparent;\n",
              "      border-right-color: var(--fill-color);\n",
              "      border-bottom-color: var(--fill-color);\n",
              "    }\n",
              "    90% {\n",
              "      border-color: transparent;\n",
              "      border-bottom-color: var(--fill-color);\n",
              "    }\n",
              "  }\n",
              "</style>\n",
              "\n",
              "  <script>\n",
              "    async function quickchart(key) {\n",
              "      const quickchartButtonEl =\n",
              "        document.querySelector('#' + key + ' button');\n",
              "      quickchartButtonEl.disabled = true;  // To prevent multiple clicks.\n",
              "      quickchartButtonEl.classList.add('colab-df-spinner');\n",
              "      try {\n",
              "        const charts = await google.colab.kernel.invokeFunction(\n",
              "            'suggestCharts', [key], {});\n",
              "      } catch (error) {\n",
              "        console.error('Error during call to suggestCharts:', error);\n",
              "      }\n",
              "      quickchartButtonEl.classList.remove('colab-df-spinner');\n",
              "      quickchartButtonEl.classList.add('colab-df-quickchart-complete');\n",
              "    }\n",
              "    (() => {\n",
              "      let quickchartButtonEl =\n",
              "        document.querySelector('#df-981cb0f1-2e71-4919-92f2-35ffdb8f0d4c button');\n",
              "      quickchartButtonEl.style.display =\n",
              "        google.colab.kernel.accessAllowed ? 'block' : 'none';\n",
              "    })();\n",
              "  </script>\n",
              "</div>\n",
              "\n",
              "    </div>\n",
              "  </div>\n"
            ],
            "text/plain": [
              "    visitor_id building_section        time_entered\n",
              "17        V001  Special Exhibit 2025-08-01 11:20:00\n",
              "79        V005  Special Exhibit 2025-08-01 11:00:00\n",
              "95        V006  Special Exhibit 2025-08-01 11:15:00\n",
              "107       V007  Special Exhibit 2025-08-01 11:10:00\n",
              "121       V008  Special Exhibit 2025-08-01 11:25:00\n",
              "132       V009  Special Exhibit 2025-08-01 11:20:00\n",
              "187       V013  Special Exhibit 2025-08-01 11:05:00\n",
              "200       V014  Special Exhibit 2025-08-01 11:15:00\n",
              "213       V015  Special Exhibit 2025-08-01 11:25:00\n",
              "265       V019  Special Exhibit 2025-08-01 11:05:00\n",
              "278       V020  Special Exhibit 2025-08-01 11:15:00\n",
              "291       V021  Special Exhibit 2025-08-01 11:25:00"
            ]
          },
          "execution_count": 69,
          "metadata": {},
          "output_type": "execute_result"
        }
      ],
      "source": [
        "#Dein Python Code hier 🐍\n"
      ]
    },
    {
      "cell_type": "markdown",
      "id": "eKEjjaEsqMbP",
      "metadata": {
        "id": "eKEjjaEsqMbP"
      },
      "source": [
        "###⚠️ Hinweis (bitte nur ausklappen, wenn nötig!)"
      ]
    },
    {
      "cell_type": "markdown",
      "id": "rndLI-vFrN08",
      "metadata": {
        "id": "rndLI-vFrN08"
      },
      "source": [
        "🔍 Erster Hinweis:\n",
        "> Nicht jeder Besucher oder Besucherin war zur Tatzeit in der Nähe der Ming-Vase. Finde heraus, wer sich zwischen 11:19 und 11:30 Uhr im Sonderausstellungsbereich (Special Exhibit) aufgehalten hat. 🕵️‍♂️👀\n",
        "\n"
      ]
    },
    {
      "cell_type": "markdown",
      "id": "_ZqELAUSqfOp",
      "metadata": {
        "id": "_ZqELAUSqfOp"
      },
      "source": [
        "### ✅ Lösung"
      ]
    },
    {
      "cell_type": "markdown",
      "id": "6-PvetBYqN9-",
      "metadata": {
        "id": "6-PvetBYqN9-"
      },
      "source": [
        "SQL:\n",
        "```sql\n",
        "SELECT vl.*, v.visitor_name\n",
        "FROM visitor_logs vl\n",
        "LEFT JOIN visitors v ON vl.visitor_ID = v.visitor_ID\n",
        "WHERE 1=1\n",
        "      AND building_section = 'Special Exhibit'\n",
        "      AND time_entered BETWEEN '2025-08-01 11:00:00' AND '2025-08-01 11:30:00'\n",
        "```\n",
        "\n",
        "Python:\n",
        "```python\n",
        "potential_suspect = visitor_logs[(\n",
        "    visitor_logs[\"building_section\"]== 'Special Exhibit') & (\n",
        "        visitor_logs[\"time_entered\"] >= '2025-08-01 11:00:00') & (\n",
        "            visitor_logs[\"time_entered\"] <= '2025-08-01 11:30:00')]\n",
        "```"
      ]
    },
    {
      "cell_type": "markdown",
      "id": "2KZv02AQsqQ3",
      "metadata": {
        "id": "2KZv02AQsqQ3"
      },
      "source": [
        "\n",
        "## 2. 👣 Verfolgen wir die Spuren und Aussagen der verdächtigen Personen\n"
      ]
    },
    {
      "cell_type": "markdown",
      "id": "2bqCfKV3sqQ-",
      "metadata": {
        "id": "2bqCfKV3sqQ-"
      },
      "source": [
        "###SQL Query ✍️"
      ]
    },
    {
      "cell_type": "code",
      "execution_count": null,
      "id": "wBRVgxiXsqQ-",
      "metadata": {
        "colab": {
          "base_uri": "https://localhost:8080/",
          "height": 365
        },
        "id": "wBRVgxiXsqQ-",
        "outputId": "3a23109f-eabe-456e-8033-14e7e4c0fa0f"
      },
      "outputs": [
        {
          "ename": "TypeError",
          "evalue": "'NoneType' object is not iterable",
          "output_type": "error",
          "traceback": [
            "\u001b[0;31m---------------------------------------------------------------------------\u001b[0m",
            "\u001b[0;31mTypeError\u001b[0m                                 Traceback (most recent call last)",
            "\u001b[0;32m<ipython-input-97-56763752c02b>\u001b[0m in \u001b[0;36m<cell line: 0>\u001b[0;34m()\u001b[0m\n\u001b[1;32m      4\u001b[0m \u001b[0;34m\u001b[0m\u001b[0m\n\u001b[1;32m      5\u001b[0m '''\n\u001b[0;32m----> 6\u001b[0;31m \u001b[0mresult_2\u001b[0m \u001b[0;34m=\u001b[0m \u001b[0mpd\u001b[0m\u001b[0;34m.\u001b[0m\u001b[0mread_sql_query\u001b[0m\u001b[0;34m(\u001b[0m\u001b[0mquery_2\u001b[0m\u001b[0;34m,\u001b[0m \u001b[0mconn\u001b[0m\u001b[0;34m)\u001b[0m\u001b[0;34m\u001b[0m\u001b[0;34m\u001b[0m\u001b[0m\n\u001b[0m\u001b[1;32m      7\u001b[0m \u001b[0mresult_2\u001b[0m\u001b[0;34m\u001b[0m\u001b[0;34m\u001b[0m\u001b[0m\n",
            "\u001b[0;32m/usr/local/lib/python3.11/dist-packages/pandas/io/sql.py\u001b[0m in \u001b[0;36mread_sql_query\u001b[0;34m(sql, con, index_col, coerce_float, params, parse_dates, chunksize, dtype, dtype_backend)\u001b[0m\n\u001b[1;32m    524\u001b[0m \u001b[0;34m\u001b[0m\u001b[0m\n\u001b[1;32m    525\u001b[0m     \u001b[0;32mwith\u001b[0m \u001b[0mpandasSQL_builder\u001b[0m\u001b[0;34m(\u001b[0m\u001b[0mcon\u001b[0m\u001b[0;34m)\u001b[0m \u001b[0;32mas\u001b[0m \u001b[0mpandas_sql\u001b[0m\u001b[0;34m:\u001b[0m\u001b[0;34m\u001b[0m\u001b[0;34m\u001b[0m\u001b[0m\n\u001b[0;32m--> 526\u001b[0;31m         return pandas_sql.read_query(\n\u001b[0m\u001b[1;32m    527\u001b[0m             \u001b[0msql\u001b[0m\u001b[0;34m,\u001b[0m\u001b[0;34m\u001b[0m\u001b[0;34m\u001b[0m\u001b[0m\n\u001b[1;32m    528\u001b[0m             \u001b[0mindex_col\u001b[0m\u001b[0;34m=\u001b[0m\u001b[0mindex_col\u001b[0m\u001b[0;34m,\u001b[0m\u001b[0;34m\u001b[0m\u001b[0;34m\u001b[0m\u001b[0m\n",
            "\u001b[0;32m/usr/local/lib/python3.11/dist-packages/pandas/io/sql.py\u001b[0m in \u001b[0;36mread_query\u001b[0;34m(self, sql, index_col, coerce_float, parse_dates, params, chunksize, dtype, dtype_backend)\u001b[0m\n\u001b[1;32m   2737\u001b[0m     ) -> DataFrame | Iterator[DataFrame]:\n\u001b[1;32m   2738\u001b[0m         \u001b[0mcursor\u001b[0m \u001b[0;34m=\u001b[0m \u001b[0mself\u001b[0m\u001b[0;34m.\u001b[0m\u001b[0mexecute\u001b[0m\u001b[0;34m(\u001b[0m\u001b[0msql\u001b[0m\u001b[0;34m,\u001b[0m \u001b[0mparams\u001b[0m\u001b[0;34m)\u001b[0m\u001b[0;34m\u001b[0m\u001b[0;34m\u001b[0m\u001b[0m\n\u001b[0;32m-> 2739\u001b[0;31m         \u001b[0mcolumns\u001b[0m \u001b[0;34m=\u001b[0m \u001b[0;34m[\u001b[0m\u001b[0mcol_desc\u001b[0m\u001b[0;34m[\u001b[0m\u001b[0;36m0\u001b[0m\u001b[0;34m]\u001b[0m \u001b[0;32mfor\u001b[0m \u001b[0mcol_desc\u001b[0m \u001b[0;32min\u001b[0m \u001b[0mcursor\u001b[0m\u001b[0;34m.\u001b[0m\u001b[0mdescription\u001b[0m\u001b[0;34m]\u001b[0m\u001b[0;34m\u001b[0m\u001b[0;34m\u001b[0m\u001b[0m\n\u001b[0m\u001b[1;32m   2740\u001b[0m \u001b[0;34m\u001b[0m\u001b[0m\n\u001b[1;32m   2741\u001b[0m         \u001b[0;32mif\u001b[0m \u001b[0mchunksize\u001b[0m \u001b[0;32mis\u001b[0m \u001b[0;32mnot\u001b[0m \u001b[0;32mNone\u001b[0m\u001b[0;34m:\u001b[0m\u001b[0;34m\u001b[0m\u001b[0;34m\u001b[0m\u001b[0m\n",
            "\u001b[0;31mTypeError\u001b[0m: 'NoneType' object is not iterable"
          ]
        }
      ],
      "source": [
        "query_2 = '''\n",
        "\n",
        "--👉 Dein SQL Query hier\n",
        "\n",
        "'''\n",
        "result_2 = pd.read_sql_query(query_2, conn)\n",
        "result_2\n"
      ]
    },
    {
      "cell_type": "markdown",
      "id": "156cvGCNsqQ-",
      "metadata": {
        "id": "156cvGCNsqQ-"
      },
      "source": [
        "###Python Code 🐍"
      ]
    },
    {
      "cell_type": "markdown",
      "id": "2YRxjhsOsqQ-",
      "metadata": {
        "id": "2YRxjhsOsqQ-"
      },
      "source": []
    },
    {
      "cell_type": "code",
      "execution_count": null,
      "id": "mGz89e6RsqQ_",
      "metadata": {
        "id": "mGz89e6RsqQ_"
      },
      "outputs": [],
      "source": [
        "#Dein Python Code hier 🐍\n",
        "\n"
      ]
    },
    {
      "cell_type": "markdown",
      "id": "bbqPGrkfsqQ_",
      "metadata": {
        "id": "bbqPGrkfsqQ_"
      },
      "source": [
        "###⚠️ Hinweis (bitte nur ausklappen, wenn nötig!)"
      ]
    },
    {
      "cell_type": "markdown",
      "id": "0FcUu-mgsqQ_",
      "metadata": {
        "id": "0FcUu-mgsqQ_"
      },
      "source": [
        "🔍 Zweiter Hinweis:\n",
        "> Gut gemacht, Data Detective! Du hast nun mehrere Tatverdächtige identifiziert. Aber der Dieb könnte klug und strategisch vorgegangen sein. 🕵️‍♂️ Überprüfe die Bewegungsmuster der Verdächtigen im Museum. Gibt es Hinweise darauf, dass jemand die Vase geschickt versteckt oder unauffällig transportiert haben könnte? Vielleicht liefern dir Zeugenaussagen oder auffällige Stopps in bestimmten Räumen einen entscheidenden Hinweis. 👀🔑\n",
        "\n"
      ]
    },
    {
      "cell_type": "markdown",
      "id": "r3lcowZusqQ_",
      "metadata": {
        "id": "r3lcowZusqQ_"
      },
      "source": [
        "### ✅ Lösung"
      ]
    },
    {
      "cell_type": "markdown",
      "id": "ZznYH9KZsqQ_",
      "metadata": {
        "id": "ZznYH9KZsqQ_"
      },
      "source": [
        "SQL:\n",
        "```sql\n",
        "-- Bewegungsprofile und Aussagen der Personen, die ich zum Tatzeitraum in der Sonderausstellungshalle aufgehalten haben\n",
        "WITH supected_visitors AS (\n",
        "SELECT vl.*\n",
        "FROM visitor_logs vl\n",
        "WHERE 1=1\n",
        "      AND Building_Section = 'Special Exhibit'\n",
        "      AND Time_Entered BETWEEN '2025-08-01 11:00:00' AND '2025-08-01 11:30:00'\n",
        ")\n",
        "SELECT vl.*, v.visitor_name, ws.aussage_script\n",
        "FROM visitor_logs vl\n",
        "LEFT JOIN visitors v ON vl.visitor_id = v.visitor_id\n",
        "LEFT JOIN witness_statements ws ON vl.visitor_id = ws.visitor_id\n",
        "WHERE vl.Visitor_ID IN (SELECT distinct visitor_id FROM supected_visitors)\n",
        "ORDER BY vl.Visitor_ID, vl.Time_Entered\n",
        "```\n",
        "\n",
        "Python:\n",
        "```python\n",
        "#Bewegungsprofile der Personen, die ich zum Tatzeitraum in der Sonderausstellungshalle aufgehalten haben\n",
        "potential_suspect = visitor_logs[(\n",
        "    visitor_logs[\"building_section\"]== 'Special Exhibit') & (\n",
        "        visitor_logs[\"time_entered\"] >= '2025-08-01 11:00:00') & (\n",
        "            visitor_logs[\"time_entered\"] <= '2025-08-01 11:30:00')]\n",
        "\n",
        "visitor_logs[visitor_logs[\"visitor_id\"].isin(potential_suspect[\"visitor_id\"])]\n",
        "\n",
        "\n",
        "#Vergleich der Zeugenaussagen\n",
        "witness_statements\n",
        "```"
      ]
    },
    {
      "cell_type": "markdown",
      "id": "SB_traoosxTk",
      "metadata": {
        "id": "SB_traoosxTk"
      },
      "source": [
        "\n",
        "## 3. 🕶️ Wie wurde die Vase ungesehen aus dem Ausstellungsbereich transportiert?\n"
      ]
    },
    {
      "cell_type": "markdown",
      "id": "LUkRM8x0sxTk",
      "metadata": {
        "id": "LUkRM8x0sxTk"
      },
      "source": [
        "###SQL Query ✍️"
      ]
    },
    {
      "cell_type": "code",
      "execution_count": null,
      "id": "-w0cHlV9sxTk",
      "metadata": {
        "colab": {
          "base_uri": "https://localhost:8080/",
          "height": 365
        },
        "id": "-w0cHlV9sxTk",
        "outputId": "373d3234-d4ea-4573-ab1b-31a16fca6202"
      },
      "outputs": [
        {
          "ename": "TypeError",
          "evalue": "'NoneType' object is not iterable",
          "output_type": "error",
          "traceback": [
            "\u001b[0;31m---------------------------------------------------------------------------\u001b[0m",
            "\u001b[0;31mTypeError\u001b[0m                                 Traceback (most recent call last)",
            "\u001b[0;32m<ipython-input-123-53fc118ca450>\u001b[0m in \u001b[0;36m<cell line: 0>\u001b[0;34m()\u001b[0m\n\u001b[1;32m      4\u001b[0m \u001b[0;34m\u001b[0m\u001b[0m\n\u001b[1;32m      5\u001b[0m '''\n\u001b[0;32m----> 6\u001b[0;31m \u001b[0mresult_3\u001b[0m \u001b[0;34m=\u001b[0m \u001b[0mpd\u001b[0m\u001b[0;34m.\u001b[0m\u001b[0mread_sql_query\u001b[0m\u001b[0;34m(\u001b[0m\u001b[0mquery_3\u001b[0m\u001b[0;34m,\u001b[0m \u001b[0mconn\u001b[0m\u001b[0;34m)\u001b[0m\u001b[0;34m\u001b[0m\u001b[0;34m\u001b[0m\u001b[0m\n\u001b[0m\u001b[1;32m      7\u001b[0m \u001b[0mresult_3\u001b[0m\u001b[0;34m\u001b[0m\u001b[0;34m\u001b[0m\u001b[0m\n",
            "\u001b[0;32m/usr/local/lib/python3.11/dist-packages/pandas/io/sql.py\u001b[0m in \u001b[0;36mread_sql_query\u001b[0;34m(sql, con, index_col, coerce_float, params, parse_dates, chunksize, dtype, dtype_backend)\u001b[0m\n\u001b[1;32m    524\u001b[0m \u001b[0;34m\u001b[0m\u001b[0m\n\u001b[1;32m    525\u001b[0m     \u001b[0;32mwith\u001b[0m \u001b[0mpandasSQL_builder\u001b[0m\u001b[0;34m(\u001b[0m\u001b[0mcon\u001b[0m\u001b[0;34m)\u001b[0m \u001b[0;32mas\u001b[0m \u001b[0mpandas_sql\u001b[0m\u001b[0;34m:\u001b[0m\u001b[0;34m\u001b[0m\u001b[0;34m\u001b[0m\u001b[0m\n\u001b[0;32m--> 526\u001b[0;31m         return pandas_sql.read_query(\n\u001b[0m\u001b[1;32m    527\u001b[0m             \u001b[0msql\u001b[0m\u001b[0;34m,\u001b[0m\u001b[0;34m\u001b[0m\u001b[0;34m\u001b[0m\u001b[0m\n\u001b[1;32m    528\u001b[0m             \u001b[0mindex_col\u001b[0m\u001b[0;34m=\u001b[0m\u001b[0mindex_col\u001b[0m\u001b[0;34m,\u001b[0m\u001b[0;34m\u001b[0m\u001b[0;34m\u001b[0m\u001b[0m\n",
            "\u001b[0;32m/usr/local/lib/python3.11/dist-packages/pandas/io/sql.py\u001b[0m in \u001b[0;36mread_query\u001b[0;34m(self, sql, index_col, coerce_float, parse_dates, params, chunksize, dtype, dtype_backend)\u001b[0m\n\u001b[1;32m   2737\u001b[0m     ) -> DataFrame | Iterator[DataFrame]:\n\u001b[1;32m   2738\u001b[0m         \u001b[0mcursor\u001b[0m \u001b[0;34m=\u001b[0m \u001b[0mself\u001b[0m\u001b[0;34m.\u001b[0m\u001b[0mexecute\u001b[0m\u001b[0;34m(\u001b[0m\u001b[0msql\u001b[0m\u001b[0;34m,\u001b[0m \u001b[0mparams\u001b[0m\u001b[0;34m)\u001b[0m\u001b[0;34m\u001b[0m\u001b[0;34m\u001b[0m\u001b[0m\n\u001b[0;32m-> 2739\u001b[0;31m         \u001b[0mcolumns\u001b[0m \u001b[0;34m=\u001b[0m \u001b[0;34m[\u001b[0m\u001b[0mcol_desc\u001b[0m\u001b[0;34m[\u001b[0m\u001b[0;36m0\u001b[0m\u001b[0;34m]\u001b[0m \u001b[0;32mfor\u001b[0m \u001b[0mcol_desc\u001b[0m \u001b[0;32min\u001b[0m \u001b[0mcursor\u001b[0m\u001b[0;34m.\u001b[0m\u001b[0mdescription\u001b[0m\u001b[0;34m]\u001b[0m\u001b[0;34m\u001b[0m\u001b[0;34m\u001b[0m\u001b[0m\n\u001b[0m\u001b[1;32m   2740\u001b[0m \u001b[0;34m\u001b[0m\u001b[0m\n\u001b[1;32m   2741\u001b[0m         \u001b[0;32mif\u001b[0m \u001b[0mchunksize\u001b[0m \u001b[0;32mis\u001b[0m \u001b[0;32mnot\u001b[0m \u001b[0;32mNone\u001b[0m\u001b[0;34m:\u001b[0m\u001b[0;34m\u001b[0m\u001b[0;34m\u001b[0m\u001b[0m\n",
            "\u001b[0;31mTypeError\u001b[0m: 'NoneType' object is not iterable"
          ]
        }
      ],
      "source": [
        "query_3 = '''\n",
        "\n",
        "--👉 Dein SQL Query hier\n",
        "\n",
        "'''\n",
        "result_3 = pd.read_sql_query(query_3, conn)\n",
        "result_3\n"
      ]
    },
    {
      "cell_type": "markdown",
      "id": "PF8p7LBisxTk",
      "metadata": {
        "id": "PF8p7LBisxTk"
      },
      "source": [
        "###Python Code 🐍"
      ]
    },
    {
      "cell_type": "markdown",
      "id": "Xz9WNAj7sxTk",
      "metadata": {
        "id": "Xz9WNAj7sxTk"
      },
      "source": []
    },
    {
      "cell_type": "code",
      "execution_count": null,
      "id": "yKT9QtWXsxTk",
      "metadata": {
        "id": "yKT9QtWXsxTk"
      },
      "outputs": [],
      "source": [
        "#Dein Python Code hier 🐍\n",
        "\n"
      ]
    },
    {
      "cell_type": "markdown",
      "id": "Btg03dMMsxTl",
      "metadata": {
        "id": "Btg03dMMsxTl"
      },
      "source": [
        "###⚠️ Hinweis (bitte nur ausklappen, wenn nötig!)"
      ]
    },
    {
      "cell_type": "markdown",
      "id": "B6CYmfPssxTl",
      "metadata": {
        "id": "B6CYmfPssxTl"
      },
      "source": [
        "🔍 Dritter Hinweis:\n",
        "> Du bist auf der richtigen Spur! 🚶‍♂️👜 Es besteht der Verdacht, dass der Dieb die Ming-Vase in einer Tasche aus dem Sonderausstellungsbereich geschmuggelt hat. Überprüfe die Verdächtigen daraufhin, ob sie etwas gekauft oder mitgebracht haben, das zum Verstecken der Vase geeignet sein könnte. 🕵️‍♂️\n",
        "\n"
      ]
    },
    {
      "cell_type": "markdown",
      "id": "9zzCMqE9sxTl",
      "metadata": {
        "id": "9zzCMqE9sxTl"
      },
      "source": [
        "### ✅ Lösung"
      ]
    },
    {
      "cell_type": "markdown",
      "id": "U9x6voOKsxTl",
      "metadata": {
        "id": "U9x6voOKsxTl"
      },
      "source": [
        "SQL:\n",
        "```sql\n",
        "WITH supected_visitors AS (\n",
        "SELECT vl.*\n",
        "FROM visitor_logs vl\n",
        "WHERE 1=1\n",
        "      AND Building_Section = 'Special Exhibit'\n",
        "      AND Time_Entered BETWEEN '2025-08-01 11:00:00' AND '2025-08-01 11:30:00'\n",
        ")\n",
        "SELECT gsp.*, v.visitor_name\n",
        "FROM gift_shop_purchases gsp\n",
        "LEFT JOIN visitors v ON gsp.visitor_id = v.visitor_id\n",
        "WHERE gsp.visitor_id IN (SELECT distinct visitor_id FROM supected_visitors)\n",
        "```\n",
        "\n",
        "Python:\n",
        "```python\n",
        "#Souvenir Purchases jener Personen, die ich zum Tatzeitraum in der Sonderausstellungshalle aufgehalten haben\n",
        "potential_suspect = visitor_logs[(\n",
        "    visitor_logs[\"building_section\"]== 'Special Exhibit') & (\n",
        "        visitor_logs[\"time_entered\"] >= '2025-08-01 11:00:00') & (\n",
        "            visitor_logs[\"time_entered\"] <= '2025-08-01 11:30:00')]\n",
        "\n",
        "gift_shop_purchases[visitor_logs[\"visitor_id\"].isin(potential_suspect[\"visitor_id\"])]\n",
        "```"
      ]
    },
    {
      "cell_type": "markdown",
      "id": "Z_4-_6pt-ECC",
      "metadata": {
        "id": "Z_4-_6pt-ECC"
      },
      "source": []
    },
    {
      "cell_type": "markdown",
      "id": "1pzPeHD6FiKz",
      "metadata": {
        "id": "1pzPeHD6FiKz"
      },
      "source": []
    },
    {
      "cell_type": "markdown",
      "id": "LB1g0w-Y-Ej6",
      "metadata": {
        "id": "LB1g0w-Y-Ej6"
      },
      "source": [
        "\n",
        "## 4. 🏺 Wo wurde die Vase deponiert?\n"
      ]
    },
    {
      "cell_type": "markdown",
      "id": "UokpYTAz-Ej7",
      "metadata": {
        "id": "UokpYTAz-Ej7"
      },
      "source": [
        "###SQL Query ✍️"
      ]
    },
    {
      "cell_type": "code",
      "execution_count": null,
      "id": "JCTNJ_FS-Ej7",
      "metadata": {
        "colab": {
          "base_uri": "https://localhost:8080/",
          "height": 365
        },
        "id": "JCTNJ_FS-Ej7",
        "outputId": "ef386396-3acf-434a-d87d-d8894e30f9e2"
      },
      "outputs": [
        {
          "ename": "TypeError",
          "evalue": "'NoneType' object is not iterable",
          "output_type": "error",
          "traceback": [
            "\u001b[0;31m---------------------------------------------------------------------------\u001b[0m",
            "\u001b[0;31mTypeError\u001b[0m                                 Traceback (most recent call last)",
            "\u001b[0;32m<ipython-input-122-52893d562934>\u001b[0m in \u001b[0;36m<cell line: 0>\u001b[0;34m()\u001b[0m\n\u001b[1;32m      4\u001b[0m \u001b[0;34m\u001b[0m\u001b[0m\n\u001b[1;32m      5\u001b[0m '''\n\u001b[0;32m----> 6\u001b[0;31m \u001b[0mresult_4\u001b[0m \u001b[0;34m=\u001b[0m \u001b[0mpd\u001b[0m\u001b[0;34m.\u001b[0m\u001b[0mread_sql_query\u001b[0m\u001b[0;34m(\u001b[0m\u001b[0mquery_4\u001b[0m\u001b[0;34m,\u001b[0m \u001b[0mconn\u001b[0m\u001b[0;34m)\u001b[0m\u001b[0;34m\u001b[0m\u001b[0;34m\u001b[0m\u001b[0m\n\u001b[0m\u001b[1;32m      7\u001b[0m \u001b[0mresult_4\u001b[0m\u001b[0;34m\u001b[0m\u001b[0;34m\u001b[0m\u001b[0m\n",
            "\u001b[0;32m/usr/local/lib/python3.11/dist-packages/pandas/io/sql.py\u001b[0m in \u001b[0;36mread_sql_query\u001b[0;34m(sql, con, index_col, coerce_float, params, parse_dates, chunksize, dtype, dtype_backend)\u001b[0m\n\u001b[1;32m    524\u001b[0m \u001b[0;34m\u001b[0m\u001b[0m\n\u001b[1;32m    525\u001b[0m     \u001b[0;32mwith\u001b[0m \u001b[0mpandasSQL_builder\u001b[0m\u001b[0;34m(\u001b[0m\u001b[0mcon\u001b[0m\u001b[0;34m)\u001b[0m \u001b[0;32mas\u001b[0m \u001b[0mpandas_sql\u001b[0m\u001b[0;34m:\u001b[0m\u001b[0;34m\u001b[0m\u001b[0;34m\u001b[0m\u001b[0m\n\u001b[0;32m--> 526\u001b[0;31m         return pandas_sql.read_query(\n\u001b[0m\u001b[1;32m    527\u001b[0m             \u001b[0msql\u001b[0m\u001b[0;34m,\u001b[0m\u001b[0;34m\u001b[0m\u001b[0;34m\u001b[0m\u001b[0m\n\u001b[1;32m    528\u001b[0m             \u001b[0mindex_col\u001b[0m\u001b[0;34m=\u001b[0m\u001b[0mindex_col\u001b[0m\u001b[0;34m,\u001b[0m\u001b[0;34m\u001b[0m\u001b[0;34m\u001b[0m\u001b[0m\n",
            "\u001b[0;32m/usr/local/lib/python3.11/dist-packages/pandas/io/sql.py\u001b[0m in \u001b[0;36mread_query\u001b[0;34m(self, sql, index_col, coerce_float, parse_dates, params, chunksize, dtype, dtype_backend)\u001b[0m\n\u001b[1;32m   2737\u001b[0m     ) -> DataFrame | Iterator[DataFrame]:\n\u001b[1;32m   2738\u001b[0m         \u001b[0mcursor\u001b[0m \u001b[0;34m=\u001b[0m \u001b[0mself\u001b[0m\u001b[0;34m.\u001b[0m\u001b[0mexecute\u001b[0m\u001b[0;34m(\u001b[0m\u001b[0msql\u001b[0m\u001b[0;34m,\u001b[0m \u001b[0mparams\u001b[0m\u001b[0;34m)\u001b[0m\u001b[0;34m\u001b[0m\u001b[0;34m\u001b[0m\u001b[0m\n\u001b[0;32m-> 2739\u001b[0;31m         \u001b[0mcolumns\u001b[0m \u001b[0;34m=\u001b[0m \u001b[0;34m[\u001b[0m\u001b[0mcol_desc\u001b[0m\u001b[0;34m[\u001b[0m\u001b[0;36m0\u001b[0m\u001b[0;34m]\u001b[0m \u001b[0;32mfor\u001b[0m \u001b[0mcol_desc\u001b[0m \u001b[0;32min\u001b[0m \u001b[0mcursor\u001b[0m\u001b[0;34m.\u001b[0m\u001b[0mdescription\u001b[0m\u001b[0;34m]\u001b[0m\u001b[0;34m\u001b[0m\u001b[0;34m\u001b[0m\u001b[0m\n\u001b[0m\u001b[1;32m   2740\u001b[0m \u001b[0;34m\u001b[0m\u001b[0m\n\u001b[1;32m   2741\u001b[0m         \u001b[0;32mif\u001b[0m \u001b[0mchunksize\u001b[0m \u001b[0;32mis\u001b[0m \u001b[0;32mnot\u001b[0m \u001b[0;32mNone\u001b[0m\u001b[0;34m:\u001b[0m\u001b[0;34m\u001b[0m\u001b[0;34m\u001b[0m\u001b[0m\n",
            "\u001b[0;31mTypeError\u001b[0m: 'NoneType' object is not iterable"
          ]
        }
      ],
      "source": [
        "query_4 = '''\n",
        "\n",
        "--👉 Dein SQL Query hier\n",
        "\n",
        "'''\n",
        "result_4 = pd.read_sql_query(query_4, conn)\n",
        "result_4\n"
      ]
    },
    {
      "cell_type": "markdown",
      "id": "J4z2fXLe-Ej7",
      "metadata": {
        "id": "J4z2fXLe-Ej7"
      },
      "source": [
        "###Python Code 🐍"
      ]
    },
    {
      "cell_type": "markdown",
      "id": "eUvvjarA-Ej7",
      "metadata": {
        "id": "eUvvjarA-Ej7"
      },
      "source": []
    },
    {
      "cell_type": "code",
      "execution_count": null,
      "id": "2Hj5b8ij-Ej7",
      "metadata": {
        "id": "2Hj5b8ij-Ej7"
      },
      "outputs": [],
      "source": [
        "#Dein Python Code hier 🐍\n"
      ]
    },
    {
      "cell_type": "markdown",
      "id": "AxYc2H5h-Ej7",
      "metadata": {
        "id": "AxYc2H5h-Ej7"
      },
      "source": [
        "###⚠️ Hinweis (bitte nur ausklappen, wenn nötig!)"
      ]
    },
    {
      "cell_type": "markdown",
      "id": "UV0WINrZ-Ej7",
      "metadata": {
        "id": "UV0WINrZ-Ej7"
      },
      "source": [
        "🔍 Vierter Hinweis::\n",
        ">Sehr gut, du hast einen Hauptverdächtigen im Blick! 👀 Aber wohin ist er nach dem Diebstahl gegangen? Verfolge die Bewegungen des Verdächtigen im Museum. 🏛️ Gibt es Hinweise darauf, dass er die Vase in einem weniger überwachten Bereich oder einem Raum deponiert haben könnte?\n",
        "\n"
      ]
    },
    {
      "cell_type": "markdown",
      "id": "JHqgrnpp-Ej7",
      "metadata": {
        "id": "JHqgrnpp-Ej7"
      },
      "source": [
        "### ✅ Lösung"
      ]
    },
    {
      "cell_type": "markdown",
      "id": "RBhdq5-a-Ej8",
      "metadata": {
        "id": "RBhdq5-a-Ej8"
      },
      "source": [
        "SQL:\n",
        "```sql\n",
        "SELECT vl.*, v.visitor_name\n",
        "FROM visitor_logs vl\n",
        "LEFT JOIN visitors v ON vl.visitor_ID = v.visitor_ID\n",
        "WHERE 1=1\n",
        "      AND v.visitor_name = 'Michael Smith'\n",
        "      AND time_entered >= '2025-08-01 11:00:00'\n",
        "ORDER BY time_entered\n",
        "```\n",
        "\n",
        "Python:\n",
        "```python\n",
        "logs_michael_smith = visitor_logs[(\n",
        "    visitor_logs[\"visitor_id\"]== 'V001') & (\n",
        "        visitor_logs[\"time_entered\"] >= '2025-08-01 11:00:00')]\n",
        "```"
      ]
    },
    {
      "cell_type": "markdown",
      "id": "cwGFDKRGCLmL",
      "metadata": {
        "id": "cwGFDKRGCLmL"
      },
      "source": [
        "\n",
        "## 5. 👥 Wie konnte die Vase aus dem Gebäude geschafft werden? Komplizen?\n"
      ]
    },
    {
      "cell_type": "markdown",
      "id": "BjsVogiWCLmL",
      "metadata": {
        "id": "BjsVogiWCLmL"
      },
      "source": [
        "###SQL Query ✍️"
      ]
    },
    {
      "cell_type": "code",
      "execution_count": null,
      "id": "FAMt_v7qCLmM",
      "metadata": {
        "colab": {
          "base_uri": "https://localhost:8080/",
          "height": 365
        },
        "id": "FAMt_v7qCLmM",
        "outputId": "ef386396-3acf-434a-d87d-d8894e30f9e2"
      },
      "outputs": [
        {
          "ename": "TypeError",
          "evalue": "'NoneType' object is not iterable",
          "output_type": "error",
          "traceback": [
            "\u001b[0;31m---------------------------------------------------------------------------\u001b[0m",
            "\u001b[0;31mTypeError\u001b[0m                                 Traceback (most recent call last)",
            "\u001b[0;32m<ipython-input-122-52893d562934>\u001b[0m in \u001b[0;36m<cell line: 0>\u001b[0;34m()\u001b[0m\n\u001b[1;32m      4\u001b[0m \u001b[0;34m\u001b[0m\u001b[0m\n\u001b[1;32m      5\u001b[0m '''\n\u001b[0;32m----> 6\u001b[0;31m \u001b[0mresult_4\u001b[0m \u001b[0;34m=\u001b[0m \u001b[0mpd\u001b[0m\u001b[0;34m.\u001b[0m\u001b[0mread_sql_query\u001b[0m\u001b[0;34m(\u001b[0m\u001b[0mquery_4\u001b[0m\u001b[0;34m,\u001b[0m \u001b[0mconn\u001b[0m\u001b[0;34m)\u001b[0m\u001b[0;34m\u001b[0m\u001b[0;34m\u001b[0m\u001b[0m\n\u001b[0m\u001b[1;32m      7\u001b[0m \u001b[0mresult_4\u001b[0m\u001b[0;34m\u001b[0m\u001b[0;34m\u001b[0m\u001b[0m\n",
            "\u001b[0;32m/usr/local/lib/python3.11/dist-packages/pandas/io/sql.py\u001b[0m in \u001b[0;36mread_sql_query\u001b[0;34m(sql, con, index_col, coerce_float, params, parse_dates, chunksize, dtype, dtype_backend)\u001b[0m\n\u001b[1;32m    524\u001b[0m \u001b[0;34m\u001b[0m\u001b[0m\n\u001b[1;32m    525\u001b[0m     \u001b[0;32mwith\u001b[0m \u001b[0mpandasSQL_builder\u001b[0m\u001b[0;34m(\u001b[0m\u001b[0mcon\u001b[0m\u001b[0;34m)\u001b[0m \u001b[0;32mas\u001b[0m \u001b[0mpandas_sql\u001b[0m\u001b[0;34m:\u001b[0m\u001b[0;34m\u001b[0m\u001b[0;34m\u001b[0m\u001b[0m\n\u001b[0;32m--> 526\u001b[0;31m         return pandas_sql.read_query(\n\u001b[0m\u001b[1;32m    527\u001b[0m             \u001b[0msql\u001b[0m\u001b[0;34m,\u001b[0m\u001b[0;34m\u001b[0m\u001b[0;34m\u001b[0m\u001b[0m\n\u001b[1;32m    528\u001b[0m             \u001b[0mindex_col\u001b[0m\u001b[0;34m=\u001b[0m\u001b[0mindex_col\u001b[0m\u001b[0;34m,\u001b[0m\u001b[0;34m\u001b[0m\u001b[0;34m\u001b[0m\u001b[0m\n",
            "\u001b[0;32m/usr/local/lib/python3.11/dist-packages/pandas/io/sql.py\u001b[0m in \u001b[0;36mread_query\u001b[0;34m(self, sql, index_col, coerce_float, parse_dates, params, chunksize, dtype, dtype_backend)\u001b[0m\n\u001b[1;32m   2737\u001b[0m     ) -> DataFrame | Iterator[DataFrame]:\n\u001b[1;32m   2738\u001b[0m         \u001b[0mcursor\u001b[0m \u001b[0;34m=\u001b[0m \u001b[0mself\u001b[0m\u001b[0;34m.\u001b[0m\u001b[0mexecute\u001b[0m\u001b[0;34m(\u001b[0m\u001b[0msql\u001b[0m\u001b[0;34m,\u001b[0m \u001b[0mparams\u001b[0m\u001b[0;34m)\u001b[0m\u001b[0;34m\u001b[0m\u001b[0;34m\u001b[0m\u001b[0m\n\u001b[0;32m-> 2739\u001b[0;31m         \u001b[0mcolumns\u001b[0m \u001b[0;34m=\u001b[0m \u001b[0;34m[\u001b[0m\u001b[0mcol_desc\u001b[0m\u001b[0;34m[\u001b[0m\u001b[0;36m0\u001b[0m\u001b[0;34m]\u001b[0m \u001b[0;32mfor\u001b[0m \u001b[0mcol_desc\u001b[0m \u001b[0;32min\u001b[0m \u001b[0mcursor\u001b[0m\u001b[0;34m.\u001b[0m\u001b[0mdescription\u001b[0m\u001b[0;34m]\u001b[0m\u001b[0;34m\u001b[0m\u001b[0;34m\u001b[0m\u001b[0m\n\u001b[0m\u001b[1;32m   2740\u001b[0m \u001b[0;34m\u001b[0m\u001b[0m\n\u001b[1;32m   2741\u001b[0m         \u001b[0;32mif\u001b[0m \u001b[0mchunksize\u001b[0m \u001b[0;32mis\u001b[0m \u001b[0;32mnot\u001b[0m \u001b[0;32mNone\u001b[0m\u001b[0;34m:\u001b[0m\u001b[0;34m\u001b[0m\u001b[0;34m\u001b[0m\u001b[0m\n",
            "\u001b[0;31mTypeError\u001b[0m: 'NoneType' object is not iterable"
          ]
        }
      ],
      "source": [
        "query_5 = '''\n",
        "\n",
        "--👉 Dein SQL Query hier\n",
        "\n",
        "'''\n",
        "result_5 = pd.read_sql_query(query_5, conn)\n",
        "result_5\n"
      ]
    },
    {
      "cell_type": "markdown",
      "id": "eMlpYnqVCLmM",
      "metadata": {
        "id": "eMlpYnqVCLmM"
      },
      "source": [
        "###Python Code 🐍"
      ]
    },
    {
      "cell_type": "markdown",
      "id": "w2UAgmeSCLmM",
      "metadata": {
        "id": "w2UAgmeSCLmM"
      },
      "source": []
    },
    {
      "cell_type": "code",
      "execution_count": null,
      "id": "PXQ_SW8rCLmM",
      "metadata": {
        "id": "PXQ_SW8rCLmM"
      },
      "outputs": [],
      "source": [
        "#Dein Python Code hier 🐍\n"
      ]
    },
    {
      "cell_type": "markdown",
      "id": "Dq2vgv8SCLmM",
      "metadata": {
        "id": "Dq2vgv8SCLmM"
      },
      "source": [
        "###⚠️ Hinweis (bitte nur ausklappen, wenn nötig!)"
      ]
    },
    {
      "cell_type": "markdown",
      "id": "UOAxpS2lCLmM",
      "metadata": {
        "id": "UOAxpS2lCLmM"
      },
      "source": [
        "🔍 Fünfter Hinweis:\n",
        ">Sehr spannend! 🕵️‍♂️ Es scheint, als hätte der Verdächtige die Vase in der Besuchertoilette zwischengelagert. 🚻 Aber wie konnte die Beute von dort verschwinden? Es ist wahrscheinlich, dass der Täter einen Komplizen hatte. 👥 Überprüfe die Zeugenaussagen erneut, um hier Licht ins Dunkle zu bringen?\n",
        "\n"
      ]
    },
    {
      "cell_type": "markdown",
      "id": "faRlorsZCLmM",
      "metadata": {
        "id": "faRlorsZCLmM"
      },
      "source": [
        "### ✅ Lösung"
      ]
    },
    {
      "cell_type": "markdown",
      "id": "ivdak_dSCLmM",
      "metadata": {
        "id": "ivdak_dSCLmM"
      },
      "source": [
        "SQL:\n",
        "```sql\n",
        "\n",
        "```\n",
        "\n",
        "Python:\n",
        "```python\n",
        "\n",
        "```"
      ]
    },
    {
      "cell_type": "markdown",
      "id": "WZ7sozy9GrkQ",
      "metadata": {
        "id": "WZ7sozy9GrkQ"
      },
      "source": [
        "\n",
        "## 6. 🔌 Wie hat der Komplize den Diebstahl vorbereitet?\n"
      ]
    },
    {
      "cell_type": "markdown",
      "id": "zv5EAZl4GrkV",
      "metadata": {
        "id": "zv5EAZl4GrkV"
      },
      "source": [
        "###SQL Query ✍️"
      ]
    },
    {
      "cell_type": "code",
      "execution_count": null,
      "id": "ojQtuzX6GrkW",
      "metadata": {
        "colab": {
          "base_uri": "https://localhost:8080/",
          "height": 365
        },
        "id": "ojQtuzX6GrkW",
        "outputId": "ef386396-3acf-434a-d87d-d8894e30f9e2"
      },
      "outputs": [
        {
          "ename": "TypeError",
          "evalue": "'NoneType' object is not iterable",
          "output_type": "error",
          "traceback": [
            "\u001b[0;31m---------------------------------------------------------------------------\u001b[0m",
            "\u001b[0;31mTypeError\u001b[0m                                 Traceback (most recent call last)",
            "\u001b[0;32m<ipython-input-122-52893d562934>\u001b[0m in \u001b[0;36m<cell line: 0>\u001b[0;34m()\u001b[0m\n\u001b[1;32m      4\u001b[0m \u001b[0;34m\u001b[0m\u001b[0m\n\u001b[1;32m      5\u001b[0m '''\n\u001b[0;32m----> 6\u001b[0;31m \u001b[0mresult_4\u001b[0m \u001b[0;34m=\u001b[0m \u001b[0mpd\u001b[0m\u001b[0;34m.\u001b[0m\u001b[0mread_sql_query\u001b[0m\u001b[0;34m(\u001b[0m\u001b[0mquery_4\u001b[0m\u001b[0;34m,\u001b[0m \u001b[0mconn\u001b[0m\u001b[0;34m)\u001b[0m\u001b[0;34m\u001b[0m\u001b[0;34m\u001b[0m\u001b[0m\n\u001b[0m\u001b[1;32m      7\u001b[0m \u001b[0mresult_4\u001b[0m\u001b[0;34m\u001b[0m\u001b[0;34m\u001b[0m\u001b[0m\n",
            "\u001b[0;32m/usr/local/lib/python3.11/dist-packages/pandas/io/sql.py\u001b[0m in \u001b[0;36mread_sql_query\u001b[0;34m(sql, con, index_col, coerce_float, params, parse_dates, chunksize, dtype, dtype_backend)\u001b[0m\n\u001b[1;32m    524\u001b[0m \u001b[0;34m\u001b[0m\u001b[0m\n\u001b[1;32m    525\u001b[0m     \u001b[0;32mwith\u001b[0m \u001b[0mpandasSQL_builder\u001b[0m\u001b[0;34m(\u001b[0m\u001b[0mcon\u001b[0m\u001b[0;34m)\u001b[0m \u001b[0;32mas\u001b[0m \u001b[0mpandas_sql\u001b[0m\u001b[0;34m:\u001b[0m\u001b[0;34m\u001b[0m\u001b[0;34m\u001b[0m\u001b[0m\n\u001b[0;32m--> 526\u001b[0;31m         return pandas_sql.read_query(\n\u001b[0m\u001b[1;32m    527\u001b[0m             \u001b[0msql\u001b[0m\u001b[0;34m,\u001b[0m\u001b[0;34m\u001b[0m\u001b[0;34m\u001b[0m\u001b[0m\n\u001b[1;32m    528\u001b[0m             \u001b[0mindex_col\u001b[0m\u001b[0;34m=\u001b[0m\u001b[0mindex_col\u001b[0m\u001b[0;34m,\u001b[0m\u001b[0;34m\u001b[0m\u001b[0;34m\u001b[0m\u001b[0m\n",
            "\u001b[0;32m/usr/local/lib/python3.11/dist-packages/pandas/io/sql.py\u001b[0m in \u001b[0;36mread_query\u001b[0;34m(self, sql, index_col, coerce_float, parse_dates, params, chunksize, dtype, dtype_backend)\u001b[0m\n\u001b[1;32m   2737\u001b[0m     ) -> DataFrame | Iterator[DataFrame]:\n\u001b[1;32m   2738\u001b[0m         \u001b[0mcursor\u001b[0m \u001b[0;34m=\u001b[0m \u001b[0mself\u001b[0m\u001b[0;34m.\u001b[0m\u001b[0mexecute\u001b[0m\u001b[0;34m(\u001b[0m\u001b[0msql\u001b[0m\u001b[0;34m,\u001b[0m \u001b[0mparams\u001b[0m\u001b[0;34m)\u001b[0m\u001b[0;34m\u001b[0m\u001b[0;34m\u001b[0m\u001b[0m\n\u001b[0;32m-> 2739\u001b[0;31m         \u001b[0mcolumns\u001b[0m \u001b[0;34m=\u001b[0m \u001b[0;34m[\u001b[0m\u001b[0mcol_desc\u001b[0m\u001b[0;34m[\u001b[0m\u001b[0;36m0\u001b[0m\u001b[0;34m]\u001b[0m \u001b[0;32mfor\u001b[0m \u001b[0mcol_desc\u001b[0m \u001b[0;32min\u001b[0m \u001b[0mcursor\u001b[0m\u001b[0;34m.\u001b[0m\u001b[0mdescription\u001b[0m\u001b[0;34m]\u001b[0m\u001b[0;34m\u001b[0m\u001b[0;34m\u001b[0m\u001b[0m\n\u001b[0m\u001b[1;32m   2740\u001b[0m \u001b[0;34m\u001b[0m\u001b[0m\n\u001b[1;32m   2741\u001b[0m         \u001b[0;32mif\u001b[0m \u001b[0mchunksize\u001b[0m \u001b[0;32mis\u001b[0m \u001b[0;32mnot\u001b[0m \u001b[0;32mNone\u001b[0m\u001b[0;34m:\u001b[0m\u001b[0;34m\u001b[0m\u001b[0;34m\u001b[0m\u001b[0m\n",
            "\u001b[0;31mTypeError\u001b[0m: 'NoneType' object is not iterable"
          ]
        }
      ],
      "source": [
        "query_6 = '''\n",
        "\n",
        "--👉 Dein SQL Query hier\n",
        "\n",
        "'''\n",
        "result_6 = pd.read_sql_query(query_6, conn)\n",
        "result_6\n"
      ]
    },
    {
      "cell_type": "markdown",
      "id": "OwMWamhMGrkW",
      "metadata": {
        "id": "OwMWamhMGrkW"
      },
      "source": [
        "###Python Code 🐍"
      ]
    },
    {
      "cell_type": "markdown",
      "id": "jtvyJHOsGrkW",
      "metadata": {
        "id": "jtvyJHOsGrkW"
      },
      "source": []
    },
    {
      "cell_type": "code",
      "execution_count": null,
      "id": "gn1xC0mVGrkW",
      "metadata": {
        "id": "gn1xC0mVGrkW"
      },
      "outputs": [],
      "source": [
        "#Dein Python Code hier 🐍\n"
      ]
    },
    {
      "cell_type": "markdown",
      "id": "HzS5UjTZGrkW",
      "metadata": {
        "id": "HzS5UjTZGrkW"
      },
      "source": [
        "###⚠️ Hinweis (bitte nur ausklappen, wenn nötig!)"
      ]
    },
    {
      "cell_type": "markdown",
      "id": "5yKY4M3eGrkW",
      "metadata": {
        "id": "5yKY4M3eGrkW"
      },
      "source": [
        "🔍 Sechster Hinweis:\n",
        ">Du hast herausgefunden, dass Mitarbeiter Nummer 1 zur Überwachung des Sonderausstellungsbereiches eingeteilt war und sich zeitgleich mit dem Hauptverdächtigen auf der Besuchertoilette befand, als dieser dort vermutlich die Vase deponiert hat. 🚻🏺 Der Mitarbeiter, der den Bereich eigentlich überwachen sollte, war während des Diebstahls jedoch nicht anwesend – ein schwerwiegendes Detail.\n",
        "\n",
        "Es ist wahrscheinlich, dass er die Vase durch den Staff-Ausgang unbemerkt aus dem Gebäude geschmuggelt hat. 🚪🕵️ Aber die entscheidende Frage bleibt: Wie hängt der Stromausfall damit zusammen? 🔌💥 War er gezielt geplant, um die Überwachung zu umgehen? Vielleicht liefert dir die Analyse des Stromausfalls und der Mitarbeiteraktivitäten den letzten, entscheidenden Hinweis. 🔍\n",
        "\n"
      ]
    },
    {
      "cell_type": "markdown",
      "id": "Y5cx06ecGrkW",
      "metadata": {
        "id": "Y5cx06ecGrkW"
      },
      "source": [
        "### ✅ Lösung"
      ]
    },
    {
      "cell_type": "markdown",
      "id": "fM48vgohGrkW",
      "metadata": {
        "id": "fM48vgohGrkW"
      },
      "source": [
        "SQL:\n",
        "```sql\n",
        "\n",
        "```\n",
        "\n",
        "Python:\n",
        "```python\n",
        "\n",
        "```"
      ]
    },
    {
      "cell_type": "markdown",
      "id": "uRPYOMtK0jCj",
      "metadata": {
        "id": "uRPYOMtK0jCj"
      },
      "source": [
        "##🎉 **Du hast es geschafft!** 🎉  \n",
        "\n",
        "🔎 Du hast den **Dieb und seine Komplizen** entlarvt! Jetzt ist es an der Zeit, den finalen Beweis zu liefern.  \n",
        "\n",
        "📄 **Erstelle eine TXT-Datei** mit dem **genauen Ablauf des Tathergangs**, inklusive **Timestamps**, und lade sie per **Merge Request** in folgendes Repository hoch:  \n",
        "\n",
        "📌 **Was muss in die Datei?**  \n",
        "✅ Dein **Name**  \n",
        "✅ Das **Skript zur Lösung der Challenge**  \n",
        "✅ Die **rekonstruierte Tat mit allen relevanten Zeitpunkten**  \n",
        "\n",
        "🚀 Lade die Datei hoch und schließe die Challenge offiziell ab! 🎩✨  "
      ]
    }
  ],
  "metadata": {
    "colab": {
      "collapsed_sections": [
        "69v1Qja54eFv",
        "FXbcpYejpzPy",
        "eKEjjaEsqMbP",
        "2KZv02AQsqQ3",
        "2bqCfKV3sqQ-",
        "156cvGCNsqQ-",
        "bbqPGrkfsqQ_",
        "r3lcowZusqQ_",
        "SB_traoosxTk",
        "PF8p7LBisxTk",
        "Btg03dMMsxTl",
        "9zzCMqE9sxTl",
        "LB1g0w-Y-Ej6",
        "UokpYTAz-Ej7",
        "J4z2fXLe-Ej7",
        "AxYc2H5h-Ej7",
        "JHqgrnpp-Ej7",
        "cwGFDKRGCLmL",
        "Dq2vgv8SCLmM",
        "zv5EAZl4GrkV",
        "OwMWamhMGrkW",
        "HzS5UjTZGrkW",
        "Y5cx06ecGrkW"
      ],
      "provenance": []
    },
    "kernelspec": {
      "display_name": "nicoschmock-J87CNWdt",
      "language": "python",
      "name": "python3"
    },
    "language_info": {
      "codemirror_mode": {
        "name": "ipython",
        "version": 3
      },
      "file_extension": ".py",
      "mimetype": "text/x-python",
      "name": "python",
      "nbconvert_exporter": "python",
      "pygments_lexer": "ipython3",
      "version": "3.10.9"
    }
  },
  "nbformat": 4,
  "nbformat_minor": 5
}
